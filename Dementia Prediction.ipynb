{
 "cells": [
  {
   "cell_type": "markdown",
   "metadata": {},
   "source": [
    "# Dementia Data Analysis "
   ]
  },
  {
   "cell_type": "markdown",
   "metadata": {},
   "source": [
    "중앙대학교병원 신경과 윤영철 교수님 치매 과제 1차 Sample 분석용 Jupyter입니다.  \n",
    "작성일 : 2020년 8월 20일"
   ]
  },
  {
   "cell_type": "markdown",
   "metadata": {},
   "source": [
    "## <1> Data Preprocessing"
   ]
  },
  {
   "cell_type": "code",
   "execution_count": 105,
   "metadata": {},
   "outputs": [],
   "source": [
    "import pandas as pd\n",
    "import warnings\n",
    "import matplotlib as mpl\n",
    "import matplotlib.pyplot as plt\n",
    "import seaborn as sns\n",
    "import numpy as np\n",
    "warnings.filterwarnings('ignore')"
   ]
  },
  {
   "cell_type": "code",
   "execution_count": 106,
   "metadata": {},
   "outputs": [],
   "source": [
    "data_table = pd.read_csv(r'C:\\Users\\pluto\\OneDrive\\Desktop\\인공지능\\머신러닝 컨퍼런스\\dementia\\dementia\\SNSB2.csv', encoding='CP949')\n",
    "data_table2 = pd.read_csv(r'C:\\Users\\pluto\\OneDrive\\Desktop\\인공지능\\머신러닝 컨퍼런스\\dementia\\dementia\\SNSB2.csv', encoding='CP949')"
   ]
  },
  {
   "cell_type": "code",
   "execution_count": 107,
   "metadata": {
    "scrolled": false
   },
   "outputs": [
    {
     "name": "stdout",
     "output_type": "stream",
     "text": [
      "<class 'pandas.core.frame.DataFrame'>\n",
      "RangeIndex: 2231 entries, 0 to 2230\n",
      "Data columns (total 25 columns):\n",
      "Age                                2231 non-null int64\n",
      "sex                                2231 non-null int64\n",
      "education                          2230 non-null object\n",
      "edu_years                          2231 non-null float64\n",
      "Rey_CFT_copy_score                 2211 non-null float64\n",
      "Rey_CFT_copy_score_p               2211 non-null float64\n",
      "Alternating_square_and_triangle    2054 non-null object\n",
      "Luria_loop                         2051 non-null object\n",
      "K_MMSE_drawing                     2219 non-null float64\n",
      "K_MMSE_drawing_p                   2219 non-null object\n",
      "CDT_Contour                        737 non-null float64\n",
      "CDT_Numbers                        737 non-null float64\n",
      "CDT_time_setting                   737 non-null float64\n",
      "CDT_Total_score                    737 non-null float64\n",
      "CDT_Total_score_p                  737 non-null object\n",
      "K_TMT_E_A_success                  2032 non-null object\n",
      "K_TMT_E_A_error                    1974 non-null float64\n",
      "K_TMT_E_B_success                  1780 non-null object\n",
      "K_TMT_E_B_error                    1267 non-null float64\n",
      "CDR                                2213 non-null float64\n",
      "Sum_of_boxes                       2206 non-null float64\n",
      "SGDS                               2080 non-null float64\n",
      "K_IADL_Score                       1884 non-null float64\n",
      "Global_DS                          2178 non-null float64\n",
      "Unnamed: 24                        3 non-null object\n",
      "dtypes: float64(15), int64(2), object(8)\n",
      "memory usage: 435.9+ KB\n"
     ]
    }
   ],
   "source": [
    "# Data 정보 확인\n",
    "data_table.info()"
   ]
  },
  {
   "cell_type": "markdown",
   "metadata": {},
   "source": [
    "- <b>Total Data Row</b> : 2230개(Feature Row 제외)\n",
    "- <b>결측치가 존재하는 Column</b> : Hospital No, education, Rey_CFT_copy_score, Rey_CFT_copy_score_p, Alternating_square_and_triangle, Luria_loop, K_MMSE_drawing, K_MMSE_drawing_p, CDR, Sum_of_boxes"
   ]
  },
  {
   "cell_type": "code",
   "execution_count": 108,
   "metadata": {},
   "outputs": [
    {
     "data": {
      "text/html": [
       "<div>\n",
       "<style scoped>\n",
       "    .dataframe tbody tr th:only-of-type {\n",
       "        vertical-align: middle;\n",
       "    }\n",
       "\n",
       "    .dataframe tbody tr th {\n",
       "        vertical-align: top;\n",
       "    }\n",
       "\n",
       "    .dataframe thead th {\n",
       "        text-align: right;\n",
       "    }\n",
       "</style>\n",
       "<table border=\"1\" class=\"dataframe\">\n",
       "  <thead>\n",
       "    <tr style=\"text-align: right;\">\n",
       "      <th></th>\n",
       "      <th>Age</th>\n",
       "      <th>sex</th>\n",
       "      <th>education</th>\n",
       "      <th>edu_years</th>\n",
       "      <th>Rey_CFT_copy_score</th>\n",
       "      <th>Rey_CFT_copy_score_p</th>\n",
       "      <th>Alternating_square_and_triangle</th>\n",
       "      <th>Luria_loop</th>\n",
       "      <th>K_MMSE_drawing</th>\n",
       "      <th>K_MMSE_drawing_p</th>\n",
       "      <th>...</th>\n",
       "      <th>K_TMT_E_A_success</th>\n",
       "      <th>K_TMT_E_A_error</th>\n",
       "      <th>K_TMT_E_B_success</th>\n",
       "      <th>K_TMT_E_B_error</th>\n",
       "      <th>CDR</th>\n",
       "      <th>Sum_of_boxes</th>\n",
       "      <th>SGDS</th>\n",
       "      <th>K_IADL_Score</th>\n",
       "      <th>Global_DS</th>\n",
       "      <th>Unnamed: 24</th>\n",
       "    </tr>\n",
       "  </thead>\n",
       "  <tbody>\n",
       "    <tr>\n",
       "      <td>0</td>\n",
       "      <td>75</td>\n",
       "      <td>0</td>\n",
       "      <td>대졸</td>\n",
       "      <td>14.0</td>\n",
       "      <td>17.0</td>\n",
       "      <td>0.00</td>\n",
       "      <td>Normal</td>\n",
       "      <td>Normal</td>\n",
       "      <td>1.0</td>\n",
       "      <td>2.44≤</td>\n",
       "      <td>...</td>\n",
       "      <td>Success</td>\n",
       "      <td>0.0</td>\n",
       "      <td>Fail</td>\n",
       "      <td>NaN</td>\n",
       "      <td>1.0</td>\n",
       "      <td>8.0</td>\n",
       "      <td>13.0</td>\n",
       "      <td>1.90</td>\n",
       "      <td>5.0</td>\n",
       "      <td>치매</td>\n",
       "    </tr>\n",
       "    <tr>\n",
       "      <td>1</td>\n",
       "      <td>85</td>\n",
       "      <td>1</td>\n",
       "      <td>고중퇴</td>\n",
       "      <td>11.0</td>\n",
       "      <td>1.5</td>\n",
       "      <td>0.00</td>\n",
       "      <td>Normal</td>\n",
       "      <td>Normal</td>\n",
       "      <td>1.0</td>\n",
       "      <td>7.51≤</td>\n",
       "      <td>...</td>\n",
       "      <td>Success</td>\n",
       "      <td>0.0</td>\n",
       "      <td>Fail</td>\n",
       "      <td>NaN</td>\n",
       "      <td>1.0</td>\n",
       "      <td>6.0</td>\n",
       "      <td>8.0</td>\n",
       "      <td>1.56</td>\n",
       "      <td>4.0</td>\n",
       "      <td>치매</td>\n",
       "    </tr>\n",
       "    <tr>\n",
       "      <td>2</td>\n",
       "      <td>80</td>\n",
       "      <td>0</td>\n",
       "      <td>고졸</td>\n",
       "      <td>12.0</td>\n",
       "      <td>36.0</td>\n",
       "      <td>88.34</td>\n",
       "      <td>Normal</td>\n",
       "      <td>Normal</td>\n",
       "      <td>1.0</td>\n",
       "      <td>5.53≤</td>\n",
       "      <td>...</td>\n",
       "      <td>Success</td>\n",
       "      <td>0.0</td>\n",
       "      <td>Success</td>\n",
       "      <td>1.0</td>\n",
       "      <td>0.5</td>\n",
       "      <td>1.5</td>\n",
       "      <td>5.0</td>\n",
       "      <td>0.20</td>\n",
       "      <td>3.0</td>\n",
       "      <td>경도인지장애</td>\n",
       "    </tr>\n",
       "    <tr>\n",
       "      <td>3</td>\n",
       "      <td>75</td>\n",
       "      <td>0</td>\n",
       "      <td>초4~6년</td>\n",
       "      <td>6.0</td>\n",
       "      <td>26.0</td>\n",
       "      <td>31.10</td>\n",
       "      <td>Normal</td>\n",
       "      <td>Normal</td>\n",
       "      <td>0.0</td>\n",
       "      <td>&lt;17.46</td>\n",
       "      <td>...</td>\n",
       "      <td>Success</td>\n",
       "      <td>0.0</td>\n",
       "      <td>Fail</td>\n",
       "      <td>NaN</td>\n",
       "      <td>0.5</td>\n",
       "      <td>2.5</td>\n",
       "      <td>2.0</td>\n",
       "      <td>NaN</td>\n",
       "      <td>3.0</td>\n",
       "      <td>NaN</td>\n",
       "    </tr>\n",
       "    <tr>\n",
       "      <td>4</td>\n",
       "      <td>73</td>\n",
       "      <td>0</td>\n",
       "      <td>고졸</td>\n",
       "      <td>12.0</td>\n",
       "      <td>18.0</td>\n",
       "      <td>0.00</td>\n",
       "      <td>Normal</td>\n",
       "      <td>Normal</td>\n",
       "      <td>1.0</td>\n",
       "      <td>3.31≤</td>\n",
       "      <td>...</td>\n",
       "      <td>Success</td>\n",
       "      <td>0.0</td>\n",
       "      <td>Fail</td>\n",
       "      <td>NaN</td>\n",
       "      <td>0.5</td>\n",
       "      <td>2.5</td>\n",
       "      <td>2.0</td>\n",
       "      <td>0.10</td>\n",
       "      <td>3.0</td>\n",
       "      <td>NaN</td>\n",
       "    </tr>\n",
       "  </tbody>\n",
       "</table>\n",
       "<p>5 rows × 25 columns</p>\n",
       "</div>"
      ],
      "text/plain": [
       "   Age  sex education  edu_years  Rey_CFT_copy_score  Rey_CFT_copy_score_p  \\\n",
       "0   75    0        대졸       14.0                17.0                  0.00   \n",
       "1   85    1       고중퇴       11.0                 1.5                  0.00   \n",
       "2   80    0        고졸       12.0                36.0                 88.34   \n",
       "3   75    0     초4~6년        6.0                26.0                 31.10   \n",
       "4   73    0        고졸       12.0                18.0                  0.00   \n",
       "\n",
       "  Alternating_square_and_triangle Luria_loop  K_MMSE_drawing K_MMSE_drawing_p  \\\n",
       "0                          Normal     Normal             1.0            2.44≤   \n",
       "1                          Normal     Normal             1.0            7.51≤   \n",
       "2                          Normal     Normal             1.0            5.53≤   \n",
       "3                          Normal     Normal             0.0           <17.46   \n",
       "4                          Normal     Normal             1.0            3.31≤   \n",
       "\n",
       "   ...  K_TMT_E_A_success  K_TMT_E_A_error  K_TMT_E_B_success  \\\n",
       "0  ...            Success              0.0               Fail   \n",
       "1  ...            Success              0.0               Fail   \n",
       "2  ...            Success              0.0            Success   \n",
       "3  ...            Success              0.0               Fail   \n",
       "4  ...            Success              0.0               Fail   \n",
       "\n",
       "   K_TMT_E_B_error  CDR Sum_of_boxes  SGDS K_IADL_Score  Global_DS  \\\n",
       "0              NaN  1.0          8.0  13.0         1.90        5.0   \n",
       "1              NaN  1.0          6.0   8.0         1.56        4.0   \n",
       "2              1.0  0.5          1.5   5.0         0.20        3.0   \n",
       "3              NaN  0.5          2.5   2.0          NaN        3.0   \n",
       "4              NaN  0.5          2.5   2.0         0.10        3.0   \n",
       "\n",
       "   Unnamed: 24  \n",
       "0           치매  \n",
       "1           치매  \n",
       "2       경도인지장애  \n",
       "3          NaN  \n",
       "4          NaN  \n",
       "\n",
       "[5 rows x 25 columns]"
      ]
     },
     "execution_count": 108,
     "metadata": {},
     "output_type": "execute_result"
    }
   ],
   "source": [
    "# Data Sample 5개 조회\n",
    "data_table.head(5)"
   ]
  },
  {
   "cell_type": "markdown",
   "metadata": {},
   "source": [
    "### Feature Deleting"
   ]
  },
  {
   "cell_type": "code",
   "execution_count": 109,
   "metadata": {},
   "outputs": [
    {
     "data": {
      "text/html": [
       "<div>\n",
       "<style scoped>\n",
       "    .dataframe tbody tr th:only-of-type {\n",
       "        vertical-align: middle;\n",
       "    }\n",
       "\n",
       "    .dataframe tbody tr th {\n",
       "        vertical-align: top;\n",
       "    }\n",
       "\n",
       "    .dataframe thead th {\n",
       "        text-align: right;\n",
       "    }\n",
       "</style>\n",
       "<table border=\"1\" class=\"dataframe\">\n",
       "  <thead>\n",
       "    <tr style=\"text-align: right;\">\n",
       "      <th></th>\n",
       "      <th>Age</th>\n",
       "      <th>sex</th>\n",
       "      <th>edu_years</th>\n",
       "      <th>Rey_CFT_copy_score</th>\n",
       "      <th>Rey_CFT_copy_score_p</th>\n",
       "      <th>K_MMSE_drawing</th>\n",
       "      <th>CDT_Contour</th>\n",
       "      <th>CDT_Numbers</th>\n",
       "      <th>CDT_time_setting</th>\n",
       "      <th>CDT_Total_score</th>\n",
       "      <th>K_TMT_E_A_error</th>\n",
       "      <th>K_TMT_E_B_error</th>\n",
       "      <th>CDR</th>\n",
       "      <th>Sum_of_boxes</th>\n",
       "      <th>SGDS</th>\n",
       "      <th>K_IADL_Score</th>\n",
       "      <th>Global_DS</th>\n",
       "    </tr>\n",
       "  </thead>\n",
       "  <tbody>\n",
       "    <tr>\n",
       "      <td>count</td>\n",
       "      <td>2231.000000</td>\n",
       "      <td>2231.000000</td>\n",
       "      <td>2231.000000</td>\n",
       "      <td>2211.000000</td>\n",
       "      <td>2211.000000</td>\n",
       "      <td>2219.000000</td>\n",
       "      <td>737.000000</td>\n",
       "      <td>737.000000</td>\n",
       "      <td>737.000000</td>\n",
       "      <td>737.000000</td>\n",
       "      <td>1974.000000</td>\n",
       "      <td>1267.000000</td>\n",
       "      <td>2213.000000</td>\n",
       "      <td>2206.000000</td>\n",
       "      <td>2080.000000</td>\n",
       "      <td>1884.000000</td>\n",
       "      <td>2178.000000</td>\n",
       "    </tr>\n",
       "    <tr>\n",
       "      <td>mean</td>\n",
       "      <td>71.789332</td>\n",
       "      <td>0.370686</td>\n",
       "      <td>8.603541</td>\n",
       "      <td>25.252261</td>\n",
       "      <td>34.992533</td>\n",
       "      <td>0.657503</td>\n",
       "      <td>0.964722</td>\n",
       "      <td>0.618725</td>\n",
       "      <td>0.445047</td>\n",
       "      <td>2.028494</td>\n",
       "      <td>0.203141</td>\n",
       "      <td>1.149961</td>\n",
       "      <td>0.653163</td>\n",
       "      <td>3.321850</td>\n",
       "      <td>5.772115</td>\n",
       "      <td>0.707601</td>\n",
       "      <td>3.203857</td>\n",
       "    </tr>\n",
       "    <tr>\n",
       "      <td>std</td>\n",
       "      <td>9.917349</td>\n",
       "      <td>0.483097</td>\n",
       "      <td>5.163496</td>\n",
       "      <td>10.098891</td>\n",
       "      <td>31.799450</td>\n",
       "      <td>0.474652</td>\n",
       "      <td>0.184607</td>\n",
       "      <td>0.486030</td>\n",
       "      <td>0.497309</td>\n",
       "      <td>0.888025</td>\n",
       "      <td>0.698104</td>\n",
       "      <td>1.640596</td>\n",
       "      <td>0.346833</td>\n",
       "      <td>2.310283</td>\n",
       "      <td>4.314588</td>\n",
       "      <td>0.965661</td>\n",
       "      <td>0.933107</td>\n",
       "    </tr>\n",
       "    <tr>\n",
       "      <td>min</td>\n",
       "      <td>45.000000</td>\n",
       "      <td>0.000000</td>\n",
       "      <td>0.000000</td>\n",
       "      <td>0.000000</td>\n",
       "      <td>0.000000</td>\n",
       "      <td>0.000000</td>\n",
       "      <td>0.000000</td>\n",
       "      <td>0.000000</td>\n",
       "      <td>0.000000</td>\n",
       "      <td>0.000000</td>\n",
       "      <td>0.000000</td>\n",
       "      <td>0.000000</td>\n",
       "      <td>0.000000</td>\n",
       "      <td>0.000000</td>\n",
       "      <td>0.000000</td>\n",
       "      <td>0.000000</td>\n",
       "      <td>1.000000</td>\n",
       "    </tr>\n",
       "    <tr>\n",
       "      <td>25%</td>\n",
       "      <td>67.000000</td>\n",
       "      <td>0.000000</td>\n",
       "      <td>6.000000</td>\n",
       "      <td>18.500000</td>\n",
       "      <td>1.600000</td>\n",
       "      <td>0.000000</td>\n",
       "      <td>1.000000</td>\n",
       "      <td>0.000000</td>\n",
       "      <td>0.000000</td>\n",
       "      <td>1.000000</td>\n",
       "      <td>0.000000</td>\n",
       "      <td>0.000000</td>\n",
       "      <td>0.500000</td>\n",
       "      <td>2.000000</td>\n",
       "      <td>2.000000</td>\n",
       "      <td>0.100000</td>\n",
       "      <td>3.000000</td>\n",
       "    </tr>\n",
       "    <tr>\n",
       "      <td>50%</td>\n",
       "      <td>74.000000</td>\n",
       "      <td>0.000000</td>\n",
       "      <td>8.000000</td>\n",
       "      <td>29.000000</td>\n",
       "      <td>28.760000</td>\n",
       "      <td>1.000000</td>\n",
       "      <td>1.000000</td>\n",
       "      <td>1.000000</td>\n",
       "      <td>0.000000</td>\n",
       "      <td>2.000000</td>\n",
       "      <td>0.000000</td>\n",
       "      <td>1.000000</td>\n",
       "      <td>0.500000</td>\n",
       "      <td>2.500000</td>\n",
       "      <td>5.000000</td>\n",
       "      <td>0.370000</td>\n",
       "      <td>3.000000</td>\n",
       "    </tr>\n",
       "    <tr>\n",
       "      <td>75%</td>\n",
       "      <td>79.000000</td>\n",
       "      <td>1.000000</td>\n",
       "      <td>12.000000</td>\n",
       "      <td>33.375000</td>\n",
       "      <td>65.400000</td>\n",
       "      <td>1.000000</td>\n",
       "      <td>1.000000</td>\n",
       "      <td>1.000000</td>\n",
       "      <td>1.000000</td>\n",
       "      <td>3.000000</td>\n",
       "      <td>0.000000</td>\n",
       "      <td>2.000000</td>\n",
       "      <td>0.500000</td>\n",
       "      <td>4.000000</td>\n",
       "      <td>9.000000</td>\n",
       "      <td>1.100000</td>\n",
       "      <td>4.000000</td>\n",
       "    </tr>\n",
       "    <tr>\n",
       "      <td>max</td>\n",
       "      <td>90.000000</td>\n",
       "      <td>1.000000</td>\n",
       "      <td>18.000000</td>\n",
       "      <td>36.000000</td>\n",
       "      <td>91.360000</td>\n",
       "      <td>1.000000</td>\n",
       "      <td>1.000000</td>\n",
       "      <td>1.000000</td>\n",
       "      <td>1.000000</td>\n",
       "      <td>3.000000</td>\n",
       "      <td>10.000000</td>\n",
       "      <td>15.000000</td>\n",
       "      <td>3.500000</td>\n",
       "      <td>16.000000</td>\n",
       "      <td>15.000000</td>\n",
       "      <td>26.000000</td>\n",
       "      <td>6.000000</td>\n",
       "    </tr>\n",
       "  </tbody>\n",
       "</table>\n",
       "</div>"
      ],
      "text/plain": [
       "               Age          sex    edu_years  Rey_CFT_copy_score  \\\n",
       "count  2231.000000  2231.000000  2231.000000         2211.000000   \n",
       "mean     71.789332     0.370686     8.603541           25.252261   \n",
       "std       9.917349     0.483097     5.163496           10.098891   \n",
       "min      45.000000     0.000000     0.000000            0.000000   \n",
       "25%      67.000000     0.000000     6.000000           18.500000   \n",
       "50%      74.000000     0.000000     8.000000           29.000000   \n",
       "75%      79.000000     1.000000    12.000000           33.375000   \n",
       "max      90.000000     1.000000    18.000000           36.000000   \n",
       "\n",
       "       Rey_CFT_copy_score_p  K_MMSE_drawing  CDT_Contour  CDT_Numbers  \\\n",
       "count           2211.000000     2219.000000   737.000000   737.000000   \n",
       "mean              34.992533        0.657503     0.964722     0.618725   \n",
       "std               31.799450        0.474652     0.184607     0.486030   \n",
       "min                0.000000        0.000000     0.000000     0.000000   \n",
       "25%                1.600000        0.000000     1.000000     0.000000   \n",
       "50%               28.760000        1.000000     1.000000     1.000000   \n",
       "75%               65.400000        1.000000     1.000000     1.000000   \n",
       "max               91.360000        1.000000     1.000000     1.000000   \n",
       "\n",
       "       CDT_time_setting  CDT_Total_score  K_TMT_E_A_error  K_TMT_E_B_error  \\\n",
       "count        737.000000       737.000000      1974.000000      1267.000000   \n",
       "mean           0.445047         2.028494         0.203141         1.149961   \n",
       "std            0.497309         0.888025         0.698104         1.640596   \n",
       "min            0.000000         0.000000         0.000000         0.000000   \n",
       "25%            0.000000         1.000000         0.000000         0.000000   \n",
       "50%            0.000000         2.000000         0.000000         1.000000   \n",
       "75%            1.000000         3.000000         0.000000         2.000000   \n",
       "max            1.000000         3.000000        10.000000        15.000000   \n",
       "\n",
       "               CDR  Sum_of_boxes         SGDS  K_IADL_Score    Global_DS  \n",
       "count  2213.000000   2206.000000  2080.000000   1884.000000  2178.000000  \n",
       "mean      0.653163      3.321850     5.772115      0.707601     3.203857  \n",
       "std       0.346833      2.310283     4.314588      0.965661     0.933107  \n",
       "min       0.000000      0.000000     0.000000      0.000000     1.000000  \n",
       "25%       0.500000      2.000000     2.000000      0.100000     3.000000  \n",
       "50%       0.500000      2.500000     5.000000      0.370000     3.000000  \n",
       "75%       0.500000      4.000000     9.000000      1.100000     4.000000  \n",
       "max       3.500000     16.000000    15.000000     26.000000     6.000000  "
      ]
     },
     "execution_count": 109,
     "metadata": {},
     "output_type": "execute_result"
    }
   ],
   "source": [
    "# 대략적인 Data 분포 확인\n",
    "data_table.describe()"
   ]
  },
  {
   "cell_type": "code",
   "execution_count": 110,
   "metadata": {},
   "outputs": [
    {
     "data": {
      "text/html": [
       "<div>\n",
       "<style scoped>\n",
       "    .dataframe tbody tr th:only-of-type {\n",
       "        vertical-align: middle;\n",
       "    }\n",
       "\n",
       "    .dataframe tbody tr th {\n",
       "        vertical-align: top;\n",
       "    }\n",
       "\n",
       "    .dataframe thead th {\n",
       "        text-align: right;\n",
       "    }\n",
       "</style>\n",
       "<table border=\"1\" class=\"dataframe\">\n",
       "  <thead>\n",
       "    <tr style=\"text-align: right;\">\n",
       "      <th></th>\n",
       "      <th>Age</th>\n",
       "      <th>sex</th>\n",
       "      <th>edu_years</th>\n",
       "      <th>Rey_CFT_copy_score</th>\n",
       "      <th>Alternating_square_and_triangle</th>\n",
       "      <th>Luria_loop</th>\n",
       "      <th>K_MMSE_drawing</th>\n",
       "      <th>K_TMT_E_A_success</th>\n",
       "      <th>K_TMT_E_B_success</th>\n",
       "      <th>CDR</th>\n",
       "      <th>Sum_of_boxes</th>\n",
       "    </tr>\n",
       "  </thead>\n",
       "  <tbody>\n",
       "    <tr>\n",
       "      <td>0</td>\n",
       "      <td>75</td>\n",
       "      <td>0</td>\n",
       "      <td>14.0</td>\n",
       "      <td>17.0</td>\n",
       "      <td>Normal</td>\n",
       "      <td>Normal</td>\n",
       "      <td>1.0</td>\n",
       "      <td>Success</td>\n",
       "      <td>Fail</td>\n",
       "      <td>1.0</td>\n",
       "      <td>8.0</td>\n",
       "    </tr>\n",
       "    <tr>\n",
       "      <td>1</td>\n",
       "      <td>85</td>\n",
       "      <td>1</td>\n",
       "      <td>11.0</td>\n",
       "      <td>1.5</td>\n",
       "      <td>Normal</td>\n",
       "      <td>Normal</td>\n",
       "      <td>1.0</td>\n",
       "      <td>Success</td>\n",
       "      <td>Fail</td>\n",
       "      <td>1.0</td>\n",
       "      <td>6.0</td>\n",
       "    </tr>\n",
       "    <tr>\n",
       "      <td>2</td>\n",
       "      <td>80</td>\n",
       "      <td>0</td>\n",
       "      <td>12.0</td>\n",
       "      <td>36.0</td>\n",
       "      <td>Normal</td>\n",
       "      <td>Normal</td>\n",
       "      <td>1.0</td>\n",
       "      <td>Success</td>\n",
       "      <td>Success</td>\n",
       "      <td>0.5</td>\n",
       "      <td>1.5</td>\n",
       "    </tr>\n",
       "  </tbody>\n",
       "</table>\n",
       "</div>"
      ],
      "text/plain": [
       "   Age  sex  edu_years  Rey_CFT_copy_score Alternating_square_and_triangle  \\\n",
       "0   75    0       14.0                17.0                          Normal   \n",
       "1   85    1       11.0                 1.5                          Normal   \n",
       "2   80    0       12.0                36.0                          Normal   \n",
       "\n",
       "  Luria_loop  K_MMSE_drawing K_TMT_E_A_success K_TMT_E_B_success  CDR  \\\n",
       "0     Normal             1.0           Success              Fail  1.0   \n",
       "1     Normal             1.0           Success              Fail  1.0   \n",
       "2     Normal             1.0           Success           Success  0.5   \n",
       "\n",
       "   Sum_of_boxes  \n",
       "0           8.0  \n",
       "1           6.0  \n",
       "2           1.5  "
      ]
     },
     "execution_count": 110,
     "metadata": {},
     "output_type": "execute_result"
    }
   ],
   "source": [
    "# 분석에 쓰이지 않는 Feature 제거\n",
    "data_table.drop(['CDT_Contour'], axis=1, inplace=True) # 분석에 의미 없음\n",
    "data_table.drop(['CDT_Numbers'], axis=1, inplace=True) # 분석에 의미 없음\n",
    "data_table.drop(['CDT_time_setting'], axis=1, inplace=True) # 분석에 의미 없음\n",
    "data_table.drop(['CDT_Total_score'], axis=1, inplace=True) # 분석에 의미 없음\n",
    "data_table.drop(['CDT_Total_score_p'], axis=1, inplace=True) # 분석에 의미 없음\n",
    "data_table.drop(['K_TMT_E_A_error'], axis=1, inplace=True) # 분석에 의미 없음\n",
    "data_table.drop(['K_TMT_E_B_error'], axis=1, inplace=True) # 분석에 의미 없음\n",
    "data_table.drop(['SGDS'], axis=1, inplace=True) # 분석에 의미 없음\n",
    "data_table.drop(['K_IADL_Score'], axis=1, inplace=True) # 분석에 의미 없음\n",
    "data_table.drop(['Global_DS'], axis=1, inplace=True) # 분석에 의미 없음\n",
    "data_table.drop(['Rey_CFT_copy_score_p'], axis=1, inplace=True) # 분석에 의미 없음\n",
    "data_table.drop(['education'], axis=1, inplace=True) # edu_y\n",
    "data_table.drop(['K_MMSE_drawing_p'], axis=1, inplace=True)\n",
    "data_table.drop(['Unnamed: 24'], axis=1, inplace=True)\n",
    "\n",
    "data_table.head(3)"
   ]
  },
  {
   "cell_type": "markdown",
   "metadata": {},
   "source": [
    "## Data Encoding\n",
    "<b>Encoding 할 Feature</b> : Alternating_square_and_triangle, Luria_loop  \n",
    "<b>Object Dtype</b> : education, Alternating_square_and_triangle, Luria_loop, K_MMSE_drawing_p\t"
   ]
  },
  {
   "cell_type": "code",
   "execution_count": 111,
   "metadata": {},
   "outputs": [],
   "source": [
    "#map_asat = {'Deform&PSV':0, 'Deformed':1, 'None':2, 'Normal':3, 'PSV':4}\n",
    "#col = ['Alternating_square_and_triangle']\n",
    "\n",
    "#data_table[col]=data_table[col].applymap(map_asat.get)\n",
    "#data_table.dropna(subset=['Alternating_square_and_triangle'], inplace=True)"
   ]
  },
  {
   "cell_type": "code",
   "execution_count": 112,
   "metadata": {},
   "outputs": [],
   "source": [
    "#sns.countplot(data_table['Alternating_square_and_triangle'])"
   ]
  },
  {
   "cell_type": "code",
   "execution_count": 113,
   "metadata": {},
   "outputs": [],
   "source": [
    "#col = ['Luria_loop']\n",
    "#data_table[col]=data_table[col].applymap(map_asat.get)\n",
    "#data_table.dropna(subset=['Luria_loop'], inplace=True)"
   ]
  },
  {
   "cell_type": "code",
   "execution_count": 114,
   "metadata": {},
   "outputs": [],
   "source": [
    "#sns.countplot(data_table['Luria_loop'])"
   ]
  },
  {
   "cell_type": "code",
   "execution_count": 115,
   "metadata": {},
   "outputs": [
    {
     "name": "stdout",
     "output_type": "stream",
     "text": [
      "<class 'pandas.core.frame.DataFrame'>\n",
      "RangeIndex: 2231 entries, 0 to 2230\n",
      "Data columns (total 11 columns):\n",
      "Age                                2231 non-null int64\n",
      "sex                                2231 non-null int64\n",
      "edu_years                          2231 non-null float64\n",
      "Rey_CFT_copy_score                 2211 non-null float64\n",
      "Alternating_square_and_triangle    2054 non-null object\n",
      "Luria_loop                         2051 non-null object\n",
      "K_MMSE_drawing                     2219 non-null float64\n",
      "K_TMT_E_A_success                  2032 non-null object\n",
      "K_TMT_E_B_success                  1780 non-null object\n",
      "CDR                                2213 non-null float64\n",
      "Sum_of_boxes                       2206 non-null float64\n",
      "dtypes: float64(5), int64(2), object(4)\n",
      "memory usage: 191.9+ KB\n"
     ]
    }
   ],
   "source": [
    "data_table.info()"
   ]
  },
  {
   "cell_type": "markdown",
   "metadata": {},
   "source": [
    "## Feature 상관관계 히트맵"
   ]
  },
  {
   "cell_type": "code",
   "execution_count": 116,
   "metadata": {},
   "outputs": [
    {
     "data": {
      "text/plain": [
       "<matplotlib.axes._subplots.AxesSubplot at 0x1b1488d9408>"
      ]
     },
     "execution_count": 116,
     "metadata": {},
     "output_type": "execute_result"
    },
    {
     "data": {
      "image/png": "[encoded data removed]",
      "text/plain": [
       "<Figure size 432x288 with 2 Axes>"
      ]
     },
     "metadata": {
      "needs_background": "light"
     },
     "output_type": "display_data"
    }
   ],
   "source": [
    "# 피처 상관관계 히트맵\n",
    "corr = data_table.corr()\n",
    "sns.heatmap(corr, cmap='RdBu')"
   ]
  },
  {
   "cell_type": "markdown",
   "metadata": {},
   "source": [
    "## 결측치 채우기 - K_MMSE_AVG"
   ]
  },
  {
   "cell_type": "markdown",
   "metadata": {},
   "source": [
    "K_MMSE_drawing 피처의 경우 결측지가 존재하면 그 행 데이터를 삭제하기로 한다. 그 이유는 아래와 같다.  \n",
    "- 피처 상관관계가 높은 연령대 데이터를 바탕으로 연령대별 K_MMSE_drawing을 수치화시키고 이를 0 혹은 1로 근사하였다. 결과와 같이 모두 '1'이어서 의미가 없다.\n",
    "- 결측치가 있는 데이터가 12개 밖에 되지 않는다."
   ]
  },
  {
   "cell_type": "code",
   "execution_count": 117,
   "metadata": {
    "scrolled": true
   },
   "outputs": [
    {
     "name": "stdout",
     "output_type": "stream",
     "text": [
      "연령대 별 평균 K_MMSE 수치 :  0.8831168831168831 0.7920353982300885 0.7582417582417582 0.6112852664576802 0.5595238095238095\n",
      "연령대 별 평균 K_MMSE 이진화 :  1 1 1 1 1\n"
     ]
    }
   ],
   "source": [
    "k_mmse_avg_40 = data_table[data_table['Age']<50]['K_MMSE_drawing'].mean()\n",
    "k_mmse_avg_50 = data_table[(data_table['Age']>=50) & (data_table['Age']<60)]['K_MMSE_drawing'].mean()\n",
    "k_mmse_avg_60 = data_table[(data_table['Age']>=60) & (data_table['Age']<70)]['K_MMSE_drawing'].mean()\n",
    "k_mmse_avg_70 = data_table[(data_table['Age']>=70) & (data_table['Age']<80)]['K_MMSE_drawing'].mean()\n",
    "k_mmse_avg_8090 = data_table[(data_table['Age']>=80) & (data_table['Age']<=90)]['K_MMSE_drawing'].mean()\n",
    "\n",
    "print(\"연령대 별 평균 K_MMSE 수치 : \", k_mmse_avg_40, k_mmse_avg_50,k_mmse_avg_60,k_mmse_avg_70,k_mmse_avg_8090)\n",
    "print(\"연령대 별 평균 K_MMSE 이진화 : \", round(k_mmse_avg_40), round(k_mmse_avg_50),round(k_mmse_avg_60),round(k_mmse_avg_70),round(k_mmse_avg_8090))\n",
    "\n",
    "#data_table[data_table['Age']<60]['K_MMSE_drawing'].fillna(k_mmse_avg_4050, inplace = True)\n",
    "#data_table[(data_table['Age']>=60) & (data_table['Age']<70)]['K_MMSE_drawing'].fillna(k_mmse_avg_60, inplace = True)\n",
    "#data_table[(data_table['Age']>=70) & (data_table['Age']<80)]['K_MMSE_drawing'].fillna(k_mmse_avg_70, inplace = True)\n",
    "#data_table[(data_table['Age']>=80) & (data_table['Age']<=90)]['K_MMSE_drawing'].fillna(k_mmse_avg_8090, inplace = True)\n",
    "\n",
    "#'K_MMSE_drawing' 칼럼에 결측치가 있는 경우 행 제거\n",
    "data_table.dropna(subset=['K_MMSE_drawing'], inplace=True)"
   ]
  },
  {
   "cell_type": "markdown",
   "metadata": {},
   "source": [
    "## 결측치 채우기 - Rey_CRT_copy_score"
   ]
  },
  {
   "cell_type": "code",
   "execution_count": 118,
   "metadata": {},
   "outputs": [
    {
     "name": "stdout",
     "output_type": "stream",
     "text": [
      "40대:  31.071428571428573\n",
      "50대:  29.548672566371682\n",
      "60대:  28.422737306843267\n",
      "70대:  24.379210526315788\n",
      "80~90대:  21.139\n",
      "0\n"
     ]
    }
   ],
   "source": [
    "Rey_score_40 = data_table[(data_table['Age']<50)]['Rey_CFT_copy_score'].mean()\n",
    "print(\"40대: \", Rey_score_40)\n",
    "Rey_score_50 = data_table[(data_table['Age']<60) & (data_table['Age']>=50) ]['Rey_CFT_copy_score'].mean()\n",
    "print(\"50대: \", Rey_score_50)\n",
    "Rey_score_60= data_table[(data_table['Age']<70) & (data_table['Age']>=60)]['Rey_CFT_copy_score'].mean()\n",
    "print(\"60대: \", Rey_score_60)\n",
    "Rey_score_70= data_table[(data_table['Age']<80) & (data_table['Age']>=70)]['Rey_CFT_copy_score'].mean()\n",
    "print(\"70대: \", Rey_score_70)\n",
    "Rey_score_8090 = data_table[(data_table['Age']<=90) & (data_table['Age']>=80)]['Rey_CFT_copy_score'].mean()\n",
    "print(\"80~90대: \", Rey_score_8090)\n",
    "\n",
    "data_table2[(data_table2['Age']<50)&(data_table2['Rey_CFT_copy_score'].isnull()==True)]=Rey_score_40\n",
    "data_table2[(data_table2['Age']<60) & (data_table2['Age']>=50)&(data_table2['Rey_CFT_copy_score'].isnull()==True) ]=Rey_score_50\n",
    "data_table2[(data_table2['Age']<70) & (data_table2['Age']>=60)&(data_table2['Rey_CFT_copy_score'].isnull()==True) ]=Rey_score_60\n",
    "data_table2[(data_table2['Age']<80) & (data_table2['Age']>=70)&(data_table2['Rey_CFT_copy_score'].isnull()==True) ]=Rey_score_70\n",
    "data_table2[(data_table2['Age']<=90) & (data_table2['Age']>=80)&(data_table2['Rey_CFT_copy_score'].isnull()==True) ]=Rey_score_8090\n",
    "\n",
    "data_table['Rey_CFT_copy_score']=round(data_table2['Rey_CFT_copy_score']) \n",
    "print(data_table['Rey_CFT_copy_score'].isnull().sum())"
   ]
  },
  {
   "cell_type": "markdown",
   "metadata": {},
   "source": [
    "## 결측치 채우기& 이진화 -Alternating_square_and_triangle"
   ]
  },
  {
   "cell_type": "code",
   "execution_count": 119,
   "metadata": {},
   "outputs": [],
   "source": [
    "def get_ast(t):\n",
    "    if t=='Normal': t=1\n",
    "    elif t=='Deformed': t=0\n",
    "    elif t=='Deform&PSV': t=0\n",
    "    elif t=='PSV': t=0\n",
    "    elif t=='N/A': t=''\n",
    "    else : t=''\n",
    "        \n",
    "    return t\n",
    "\n",
    "data_table['Alternating_square_and_triangle']= data_table['Alternating_square_and_triangle'].apply(lambda x: get_ast(x))\n",
    "data_table['Alternating_square_and_triangle'] = data_table['Alternating_square_and_triangle'].apply(pd.to_numeric, errors='coerce')"
   ]
  },
  {
   "cell_type": "code",
   "execution_count": 120,
   "metadata": {},
   "outputs": [
    {
     "name": "stdout",
     "output_type": "stream",
     "text": [
      "Rey_CFT_copy_score별 평균 Alternating_square_and_triangle 수치 :  0.23478260869565218 0.5045317220543807 0.8472222222222222 0.9564336372847011\n",
      "Rey_CFT_copy_score별 평균 Alternating_square_and_triangle 이진화 :  0 1 1 1\n"
     ]
    }
   ],
   "source": [
    "ast_0 = data_table[(data_table['Rey_CFT_copy_score']<10)]['Alternating_square_and_triangle'].mean()\n",
    "ast_10 = data_table[(data_table['Rey_CFT_copy_score']>=10) & (data_table['Rey_CFT_copy_score']<20)]['Alternating_square_and_triangle'].mean()\n",
    "ast_20 = data_table[(data_table['Rey_CFT_copy_score']>=20) & (data_table['Rey_CFT_copy_score']<30)]['Alternating_square_and_triangle'].mean()\n",
    "ast_30 = data_table[(data_table['Rey_CFT_copy_score']>=30) & (data_table['Rey_CFT_copy_score']<40)]['Alternating_square_and_triangle'].mean()\n",
    "data_table2['Alternating_square_and_triangle']=data_table['Alternating_square_and_triangle']\n",
    "print(\"Rey_CFT_copy_score별 평균 Alternating_square_and_triangle 수치 : \", ast_0, ast_10,ast_20,ast_30)\n",
    "print(\"Rey_CFT_copy_score별 평균 Alternating_square_and_triangle 이진화 : \", round(ast_0), round(ast_10),round(ast_20),round(ast_30))"
   ]
  },
  {
   "cell_type": "code",
   "execution_count": 121,
   "metadata": {},
   "outputs": [],
   "source": [
    "data_table2[(data_table2['Rey_CFT_copy_score']<10)&(data_table2['Alternating_square_and_triangle'].isnull()==True)]=ast_0\n",
    "data_table2[(data_table2['Rey_CFT_copy_score']<20) & (data_table2['Rey_CFT_copy_score']>=10)&(data_table2['Alternating_square_and_triangle'].isnull()==True) ]=ast_10\n",
    "data_table2[(data_table2['Rey_CFT_copy_score']<30) & (data_table2['Rey_CFT_copy_score']>=20)&(data_table2['Alternating_square_and_triangle'].isnull()==True) ]=ast_20\n",
    "data_table2[(data_table2['Rey_CFT_copy_score']<40) & (data_table2['Rey_CFT_copy_score']>=30)&(data_table2['Alternating_square_and_triangle'].isnull()==True) ]=ast_30\n",
    "data_table['Alternating_square_and_triangle']=round(data_table2['Alternating_square_and_triangle'])"
   ]
  },
  {
   "cell_type": "markdown",
   "metadata": {},
   "source": [
    "## 결측치 채우기& 이진화- Lurial loop"
   ]
  },
  {
   "cell_type": "code",
   "execution_count": 122,
   "metadata": {},
   "outputs": [],
   "source": [
    "data_table2 = pd.read_csv(r'C:\\Users\\pluto\\OneDrive\\Desktop\\인공지능\\머신러닝 컨퍼런스\\dementia\\dementia\\SNSB2.csv', encoding='CP949')\n",
    "data_table['Luria_loop']= data_table['Luria_loop'].apply(lambda x: get_ast(x))\n",
    "data_table['Luria_loop']=data_table['Luria_loop'].apply(pd.to_numeric, errors='coerce')"
   ]
  },
  {
   "cell_type": "code",
   "execution_count": 123,
   "metadata": {},
   "outputs": [
    {
     "name": "stdout",
     "output_type": "stream",
     "text": [
      "연령대 별 평균 Luria_loop 수치 :  0.27467811158798283 0.5075528700906344 0.8323353293413174 0.9613821138211383\n",
      "연령대 별 평균 Luria_loop 이진화 :  0 1 1 1\n"
     ]
    }
   ],
   "source": [
    "llp_0 = data_table[data_table['Rey_CFT_copy_score']<10]['Luria_loop'].mean()\n",
    "llp_10 = data_table[(data_table['Rey_CFT_copy_score']>=10) & (data_table['Rey_CFT_copy_score']<20)]['Luria_loop'].mean()\n",
    "llp_20 = data_table[(data_table['Rey_CFT_copy_score']>=20) & (data_table['Rey_CFT_copy_score']<30)]['Luria_loop'].mean()\n",
    "llp_30 = data_table[(data_table['Rey_CFT_copy_score']>=30) & (data_table['Rey_CFT_copy_score']<40)]['Luria_loop'].mean()\n",
    "data_table2['Luria_loop']= data_table['Luria_loop']\n",
    "data_table2['Rey_CFT_copy_score'] = data_table['Rey_CFT_copy_score']\n",
    "print(\"연령대 별 평균 Luria_loop 수치 : \", llp_0, llp_10,llp_20,llp_30)\n",
    "print(\"연령대 별 평균 Luria_loop 이진화 : \", round(llp_0), round(llp_10),round(llp_20),round(llp_30))"
   ]
  },
  {
   "cell_type": "code",
   "execution_count": 124,
   "metadata": {},
   "outputs": [],
   "source": [
    "data_table2[(data_table2['Rey_CFT_copy_score']<10) & (data_table2['Luria_loop'].isnull()==True)]=llp_0\n",
    "data_table2[(data_table2['Rey_CFT_copy_score']<20) & (data_table2['Rey_CFT_copy_score']>=10)&(data_table2['Luria_loop'].isnull()==True) ]=llp_10\n",
    "data_table2[(data_table2['Rey_CFT_copy_score']<30) & (data_table2['Rey_CFT_copy_score']>=20)&(data_table2['Luria_loop'].isnull()==True) ]=llp_20\n",
    "data_table2[(data_table2['Rey_CFT_copy_score']<40) & (data_table2['Rey_CFT_copy_score']>=30)&(data_table2['Luria_loop'].isnull()==True) ]=llp_30\n",
    "data_table['Luria_loop']=round(data_table2['Luria_loop'])"
   ]
  },
  {
   "cell_type": "markdown",
   "metadata": {},
   "source": [
    "## 결측치 채우기& 이진화- K_TMT_E_A_success"
   ]
  },
  {
   "cell_type": "code",
   "execution_count": 125,
   "metadata": {},
   "outputs": [],
   "source": [
    "def get_tmta(t):\n",
    "    if t=='Success': t=1\n",
    "    elif t=='Fail': t=0\n",
    "    elif t=='N/A': t=''\n",
    "    else : t=''\n",
    "        \n",
    "    return t\n",
    "     \n",
    "data_table2 = pd.read_csv(r'C:\\Users\\pluto\\OneDrive\\Desktop\\인공지능\\머신러닝 컨퍼런스\\dementia\\dementia\\SNSB2.csv', encoding='CP949')\n",
    "data_table['K_TMT_E_A_success']= data_table['K_TMT_E_A_success'].apply(lambda x: get_tmta(x))\n",
    "data_table['K_TMT_E_A_success']=data_table['K_TMT_E_A_success'].apply(pd.to_numeric, errors='coerce')"
   ]
  },
  {
   "cell_type": "code",
   "execution_count": 126,
   "metadata": {},
   "outputs": [
    {
     "name": "stdout",
     "output_type": "stream",
     "text": [
      "연령대 별 평균 K_TMT_E_A_success 수치 :  0.7409326424870466 0.94375 0.9961389961389961 1.0\n",
      "연령대 별 평균 K_TMT_E_A_success 이진화 :  1 1 1 1\n"
     ]
    }
   ],
   "source": [
    "tmtea_0 = data_table[data_table['Rey_CFT_copy_score']<10]['K_TMT_E_A_success'].mean()\n",
    "tmtea_10 = data_table[(data_table['Rey_CFT_copy_score']>=10) & (data_table['Rey_CFT_copy_score']<20)]['K_TMT_E_A_success'].mean()\n",
    "tmtea_20 = data_table[(data_table['Rey_CFT_copy_score']>=20) & (data_table['Rey_CFT_copy_score']<30)]['K_TMT_E_A_success'].mean()\n",
    "tmtea_30 = data_table[(data_table['Rey_CFT_copy_score']>=30) & (data_table['Rey_CFT_copy_score']<40)]['K_TMT_E_A_success'].mean()\n",
    "data_table2['K_TMT_E_A_success']= data_table['K_TMT_E_A_success']\n",
    "data_table2['Rey_CFT_copy_score'] = data_table['Rey_CFT_copy_score']\n",
    "print(\"연령대 별 평균 K_TMT_E_A_success 수치 : \", tmtea_0, tmtea_10,tmtea_20,tmtea_30)\n",
    "print(\"연령대 별 평균 K_TMT_E_A_success 이진화 : \", round(tmtea_0), round(tmtea_10),round(tmtea_20),round(tmtea_30))"
   ]
  },
  {
   "cell_type": "code",
   "execution_count": 127,
   "metadata": {},
   "outputs": [],
   "source": [
    "data_table2[(data_table2['Rey_CFT_copy_score']<10) & (data_table2['K_TMT_E_A_success'].isnull()==True)]=tmtea_0\n",
    "data_table2[(data_table2['Rey_CFT_copy_score']<20) & (data_table2['Rey_CFT_copy_score']>=10)&(data_table2['K_TMT_E_A_success'].isnull()==True) ]=tmtea_10\n",
    "data_table2[(data_table2['Rey_CFT_copy_score']<30) & (data_table2['Rey_CFT_copy_score']>=20)&(data_table2['K_TMT_E_A_success'].isnull()==True) ]=tmtea_20\n",
    "data_table2[(data_table2['Rey_CFT_copy_score']<40) & (data_table2['Rey_CFT_copy_score']>=30)&(data_table2['K_TMT_E_A_success'].isnull()==True) ]=tmtea_30\n",
    "data_table['K_TMT_E_A_success']=round(data_table2['K_TMT_E_A_success'])"
   ]
  },
  {
   "cell_type": "markdown",
   "metadata": {},
   "source": [
    "## 결측치 채우기& 이진화- K_TMT_E_B_success"
   ]
  },
  {
   "cell_type": "code",
   "execution_count": 128,
   "metadata": {},
   "outputs": [],
   "source": [
    "data_table2 = pd.read_csv(r'C:\\Users\\pluto\\OneDrive\\Desktop\\인공지능\\머신러닝 컨퍼런스\\dementia\\dementia\\SNSB2.csv', encoding='CP949')\n",
    "def get_tmtb(t):\n",
    "    if t=='Success': t=1\n",
    "    elif t=='Fail': t=0\n",
    "    elif t==0 : t=0\n",
    "    elif t=='N/A': t=''\n",
    "    else : t=''\n",
    "        \n",
    "    return t\n",
    "\n",
    "data_table2[(data_table2['K_TMT_E_A_success']=='Fail') &(data_table['K_TMT_E_B_success'].isnull()==True)]=0\n",
    "data_table['K_TMT_E_B_success'] = data_table2['K_TMT_E_B_success']\n",
    "data_table['K_TMT_E_B_success']= data_table['K_TMT_E_B_success'].apply(lambda x: get_tmtb(x))\n",
    "data_table['K_TMT_E_B_success']= data_table['K_TMT_E_B_success'].apply(pd.to_numeric, errors='coerce')"
   ]
  },
  {
   "cell_type": "code",
   "execution_count": 129,
   "metadata": {},
   "outputs": [
    {
     "name": "stdout",
     "output_type": "stream",
     "text": [
      "연령대 별 평균 K_TMT_E_B_success 수치 :  0.0 0.6836158192090396\n",
      "연령대 별 평균 K_TMT_E_B_success 이진화 :  0 1\n"
     ]
    }
   ],
   "source": [
    "tmteb_0 = data_table[data_table['K_TMT_E_A_success']==0]['K_TMT_E_B_success'].mean()\n",
    "tmteb_1 = data_table[data_table['K_TMT_E_A_success']==1]['K_TMT_E_B_success'].mean()\n",
    "data_table2['K_TMT_E_B_success']= data_table['K_TMT_E_B_success']\n",
    "data_table2['K_TMT_E_A_success']= data_table['K_TMT_E_A_success']\n",
    "print(\"연령대 별 평균 K_TMT_E_B_success 수치 : \", tmteb_0, tmteb_1)\n",
    "print(\"연령대 별 평균 K_TMT_E_B_success 이진화 : \", round(tmteb_0), round(tmteb_1))"
   ]
  },
  {
   "cell_type": "code",
   "execution_count": 130,
   "metadata": {},
   "outputs": [],
   "source": [
    "data_table2[(data_table['K_TMT_E_A_success']==0) & (data_table2['K_TMT_E_B_success'].isnull()==True)]=tmteb_0\n",
    "data_table2[(data_table2['K_TMT_E_A_success']==1) & (data_table2['K_TMT_E_B_success'].isnull()==True) ]=tmteb_1\n",
    "data_table['K_TMT_E_B_success']=round(data_table2['K_TMT_E_B_success'])"
   ]
  },
  {
   "cell_type": "markdown",
   "metadata": {},
   "source": [
    "# 여기까지 결측치 채워넣음"
   ]
  },
  {
   "cell_type": "markdown",
   "metadata": {},
   "source": [
    "## 데이터 분포 확인"
   ]
  },
  {
   "cell_type": "code",
   "execution_count": 131,
   "metadata": {},
   "outputs": [
    {
     "name": "stdout",
     "output_type": "stream",
     "text": [
      "<class 'pandas.core.frame.DataFrame'>\n",
      "Int64Index: 2219 entries, 0 to 2230\n",
      "Data columns (total 11 columns):\n",
      "Age                                2219 non-null int64\n",
      "sex                                2219 non-null int64\n",
      "edu_years                          2219 non-null float64\n",
      "Rey_CFT_copy_score                 2219 non-null float64\n",
      "Alternating_square_and_triangle    2219 non-null float64\n",
      "Luria_loop                         2219 non-null float64\n",
      "K_MMSE_drawing                     2219 non-null float64\n",
      "K_TMT_E_A_success                  2219 non-null float64\n",
      "K_TMT_E_B_success                  2219 non-null float64\n",
      "CDR                                2212 non-null float64\n",
      "Sum_of_boxes                       2205 non-null float64\n",
      "dtypes: float64(9), int64(2)\n",
      "memory usage: 288.0 KB\n"
     ]
    }
   ],
   "source": [
    "data_table.info()"
   ]
  },
  {
   "cell_type": "code",
   "execution_count": 132,
   "metadata": {
    "scrolled": true
   },
   "outputs": [
    {
     "data": {
      "text/html": [
       "<div>\n",
       "<style scoped>\n",
       "    .dataframe tbody tr th:only-of-type {\n",
       "        vertical-align: middle;\n",
       "    }\n",
       "\n",
       "    .dataframe tbody tr th {\n",
       "        vertical-align: top;\n",
       "    }\n",
       "\n",
       "    .dataframe thead th {\n",
       "        text-align: right;\n",
       "    }\n",
       "</style>\n",
       "<table border=\"1\" class=\"dataframe\">\n",
       "  <thead>\n",
       "    <tr style=\"text-align: right;\">\n",
       "      <th></th>\n",
       "      <th>Age</th>\n",
       "      <th>sex</th>\n",
       "      <th>edu_years</th>\n",
       "      <th>Rey_CFT_copy_score</th>\n",
       "      <th>Alternating_square_and_triangle</th>\n",
       "      <th>Luria_loop</th>\n",
       "      <th>K_MMSE_drawing</th>\n",
       "      <th>K_TMT_E_A_success</th>\n",
       "      <th>K_TMT_E_B_success</th>\n",
       "      <th>CDR</th>\n",
       "      <th>Sum_of_boxes</th>\n",
       "    </tr>\n",
       "  </thead>\n",
       "  <tbody>\n",
       "    <tr>\n",
       "      <td>0</td>\n",
       "      <td>75</td>\n",
       "      <td>0</td>\n",
       "      <td>14.0</td>\n",
       "      <td>17.0</td>\n",
       "      <td>1.0</td>\n",
       "      <td>1.0</td>\n",
       "      <td>1.0</td>\n",
       "      <td>1.0</td>\n",
       "      <td>0.0</td>\n",
       "      <td>1.0</td>\n",
       "      <td>8.0</td>\n",
       "    </tr>\n",
       "    <tr>\n",
       "      <td>1</td>\n",
       "      <td>85</td>\n",
       "      <td>1</td>\n",
       "      <td>11.0</td>\n",
       "      <td>2.0</td>\n",
       "      <td>1.0</td>\n",
       "      <td>1.0</td>\n",
       "      <td>1.0</td>\n",
       "      <td>1.0</td>\n",
       "      <td>0.0</td>\n",
       "      <td>1.0</td>\n",
       "      <td>6.0</td>\n",
       "    </tr>\n",
       "    <tr>\n",
       "      <td>2</td>\n",
       "      <td>80</td>\n",
       "      <td>0</td>\n",
       "      <td>12.0</td>\n",
       "      <td>36.0</td>\n",
       "      <td>1.0</td>\n",
       "      <td>1.0</td>\n",
       "      <td>1.0</td>\n",
       "      <td>1.0</td>\n",
       "      <td>1.0</td>\n",
       "      <td>0.5</td>\n",
       "      <td>1.5</td>\n",
       "    </tr>\n",
       "    <tr>\n",
       "      <td>3</td>\n",
       "      <td>75</td>\n",
       "      <td>0</td>\n",
       "      <td>6.0</td>\n",
       "      <td>26.0</td>\n",
       "      <td>1.0</td>\n",
       "      <td>1.0</td>\n",
       "      <td>0.0</td>\n",
       "      <td>1.0</td>\n",
       "      <td>0.0</td>\n",
       "      <td>0.5</td>\n",
       "      <td>2.5</td>\n",
       "    </tr>\n",
       "    <tr>\n",
       "      <td>4</td>\n",
       "      <td>73</td>\n",
       "      <td>0</td>\n",
       "      <td>12.0</td>\n",
       "      <td>18.0</td>\n",
       "      <td>1.0</td>\n",
       "      <td>1.0</td>\n",
       "      <td>1.0</td>\n",
       "      <td>1.0</td>\n",
       "      <td>0.0</td>\n",
       "      <td>0.5</td>\n",
       "      <td>2.5</td>\n",
       "    </tr>\n",
       "  </tbody>\n",
       "</table>\n",
       "</div>"
      ],
      "text/plain": [
       "   Age  sex  edu_years  Rey_CFT_copy_score  Alternating_square_and_triangle  \\\n",
       "0   75    0       14.0                17.0                              1.0   \n",
       "1   85    1       11.0                 2.0                              1.0   \n",
       "2   80    0       12.0                36.0                              1.0   \n",
       "3   75    0        6.0                26.0                              1.0   \n",
       "4   73    0       12.0                18.0                              1.0   \n",
       "\n",
       "   Luria_loop  K_MMSE_drawing  K_TMT_E_A_success  K_TMT_E_B_success  CDR  \\\n",
       "0         1.0             1.0                1.0                0.0  1.0   \n",
       "1         1.0             1.0                1.0                0.0  1.0   \n",
       "2         1.0             1.0                1.0                1.0  0.5   \n",
       "3         1.0             0.0                1.0                0.0  0.5   \n",
       "4         1.0             1.0                1.0                0.0  0.5   \n",
       "\n",
       "   Sum_of_boxes  \n",
       "0           8.0  \n",
       "1           6.0  \n",
       "2           1.5  \n",
       "3           2.5  \n",
       "4           2.5  "
      ]
     },
     "execution_count": 132,
     "metadata": {},
     "output_type": "execute_result"
    }
   ],
   "source": [
    "import pandas as pd\n",
    "import numpy as np\n",
    "import matplotlib.pyplot as plt\n",
    "import seaborn as sns\n",
    "\n",
    "import warnings\n",
    "warnings.filterwarnings('ignore')\n",
    "\n",
    "data_table.head(5)"
   ]
  },
  {
   "cell_type": "code",
   "execution_count": 133,
   "metadata": {},
   "outputs": [
    {
     "name": "stdout",
     "output_type": "stream",
     "text": [
      "<class 'pandas.core.frame.DataFrame'>\n",
      "Int64Index: 2212 entries, 0 to 2230\n",
      "Data columns (total 11 columns):\n",
      "Age                                2212 non-null int64\n",
      "sex                                2212 non-null int64\n",
      "edu_years                          2212 non-null float64\n",
      "Rey_CFT_copy_score                 2212 non-null float64\n",
      "Alternating_square_and_triangle    2212 non-null float64\n",
      "Luria_loop                         2212 non-null float64\n",
      "K_MMSE_drawing                     2212 non-null float64\n",
      "K_TMT_E_A_success                  2212 non-null float64\n",
      "K_TMT_E_B_success                  2212 non-null float64\n",
      "CDR                                2212 non-null float64\n",
      "Sum_of_boxes                       2205 non-null float64\n",
      "dtypes: float64(9), int64(2)\n",
      "memory usage: 207.4 KB\n"
     ]
    },
    {
     "data": {
      "text/plain": [
       "Age                                0\n",
       "sex                                0\n",
       "edu_years                          0\n",
       "Rey_CFT_copy_score                 0\n",
       "Alternating_square_and_triangle    0\n",
       "Luria_loop                         0\n",
       "K_MMSE_drawing                     0\n",
       "K_TMT_E_A_success                  0\n",
       "K_TMT_E_B_success                  0\n",
       "CDR                                0\n",
       "Sum_of_boxes                       7\n",
       "dtype: int64"
      ]
     },
     "execution_count": 133,
     "metadata": {},
     "output_type": "execute_result"
    }
   ],
   "source": [
    "data_table.dropna(subset=['CDR'], inplace=True)\n",
    "data_table.info()\n",
    "data_table.isnull().sum()"
   ]
  },
  {
   "cell_type": "code",
   "execution_count": 134,
   "metadata": {},
   "outputs": [
    {
     "data": {
      "text/plain": [
       "<matplotlib.axes._subplots.AxesSubplot at 0x1b149bab088>"
      ]
     },
     "execution_count": 134,
     "metadata": {},
     "output_type": "execute_result"
    },
    {
     "data": {
      "image/png": "[encoded data removed]",
      "text/plain": [
       "<Figure size 432x288 with 1 Axes>"
      ]
     },
     "metadata": {
      "needs_background": "light"
     },
     "output_type": "display_data"
    }
   ],
   "source": [
    "sns.countplot(data_table['CDR'])"
   ]
  },
  {
   "cell_type": "code",
   "execution_count": 135,
   "metadata": {},
   "outputs": [],
   "source": [
    "def CDR_class(CDR):\n",
    "    degree = ''\n",
    "    if CDR == 0 : degree = '0'\n",
    "    elif (CDR == 0.45)|(CDR == 0.5)  : degree = '1'\n",
    "    elif (CDR == 1)|(CDR == 2)|(CDR == 3)|(CDR == 3.5) : degree = '2'\n",
    "        \n",
    "    return degree"
   ]
  },
  {
   "cell_type": "code",
   "execution_count": 136,
   "metadata": {},
   "outputs": [
    {
     "data": {
      "text/html": [
       "<div>\n",
       "<style scoped>\n",
       "    .dataframe tbody tr th:only-of-type {\n",
       "        vertical-align: middle;\n",
       "    }\n",
       "\n",
       "    .dataframe tbody tr th {\n",
       "        vertical-align: top;\n",
       "    }\n",
       "\n",
       "    .dataframe thead th {\n",
       "        text-align: right;\n",
       "    }\n",
       "</style>\n",
       "<table border=\"1\" class=\"dataframe\">\n",
       "  <thead>\n",
       "    <tr style=\"text-align: right;\">\n",
       "      <th></th>\n",
       "      <th>Age</th>\n",
       "      <th>sex</th>\n",
       "      <th>edu_years</th>\n",
       "      <th>Rey_CFT_copy_score</th>\n",
       "      <th>Alternating_square_and_triangle</th>\n",
       "      <th>Luria_loop</th>\n",
       "      <th>K_MMSE_drawing</th>\n",
       "      <th>K_TMT_E_A_success</th>\n",
       "      <th>K_TMT_E_B_success</th>\n",
       "      <th>CDR</th>\n",
       "      <th>Sum_of_boxes</th>\n",
       "    </tr>\n",
       "  </thead>\n",
       "  <tbody>\n",
       "    <tr>\n",
       "      <td>0</td>\n",
       "      <td>75</td>\n",
       "      <td>0</td>\n",
       "      <td>14.0</td>\n",
       "      <td>17.0</td>\n",
       "      <td>1.0</td>\n",
       "      <td>1.0</td>\n",
       "      <td>1.0</td>\n",
       "      <td>1.0</td>\n",
       "      <td>0.0</td>\n",
       "      <td>2</td>\n",
       "      <td>8.0</td>\n",
       "    </tr>\n",
       "    <tr>\n",
       "      <td>1</td>\n",
       "      <td>85</td>\n",
       "      <td>1</td>\n",
       "      <td>11.0</td>\n",
       "      <td>2.0</td>\n",
       "      <td>1.0</td>\n",
       "      <td>1.0</td>\n",
       "      <td>1.0</td>\n",
       "      <td>1.0</td>\n",
       "      <td>0.0</td>\n",
       "      <td>2</td>\n",
       "      <td>6.0</td>\n",
       "    </tr>\n",
       "    <tr>\n",
       "      <td>2</td>\n",
       "      <td>80</td>\n",
       "      <td>0</td>\n",
       "      <td>12.0</td>\n",
       "      <td>36.0</td>\n",
       "      <td>1.0</td>\n",
       "      <td>1.0</td>\n",
       "      <td>1.0</td>\n",
       "      <td>1.0</td>\n",
       "      <td>1.0</td>\n",
       "      <td>1</td>\n",
       "      <td>1.5</td>\n",
       "    </tr>\n",
       "    <tr>\n",
       "      <td>3</td>\n",
       "      <td>75</td>\n",
       "      <td>0</td>\n",
       "      <td>6.0</td>\n",
       "      <td>26.0</td>\n",
       "      <td>1.0</td>\n",
       "      <td>1.0</td>\n",
       "      <td>0.0</td>\n",
       "      <td>1.0</td>\n",
       "      <td>0.0</td>\n",
       "      <td>1</td>\n",
       "      <td>2.5</td>\n",
       "    </tr>\n",
       "    <tr>\n",
       "      <td>4</td>\n",
       "      <td>73</td>\n",
       "      <td>0</td>\n",
       "      <td>12.0</td>\n",
       "      <td>18.0</td>\n",
       "      <td>1.0</td>\n",
       "      <td>1.0</td>\n",
       "      <td>1.0</td>\n",
       "      <td>1.0</td>\n",
       "      <td>0.0</td>\n",
       "      <td>1</td>\n",
       "      <td>2.5</td>\n",
       "    </tr>\n",
       "  </tbody>\n",
       "</table>\n",
       "</div>"
      ],
      "text/plain": [
       "   Age  sex  edu_years  Rey_CFT_copy_score  Alternating_square_and_triangle  \\\n",
       "0   75    0       14.0                17.0                              1.0   \n",
       "1   85    1       11.0                 2.0                              1.0   \n",
       "2   80    0       12.0                36.0                              1.0   \n",
       "3   75    0        6.0                26.0                              1.0   \n",
       "4   73    0       12.0                18.0                              1.0   \n",
       "\n",
       "   Luria_loop  K_MMSE_drawing  K_TMT_E_A_success  K_TMT_E_B_success CDR  \\\n",
       "0         1.0             1.0                1.0                0.0   2   \n",
       "1         1.0             1.0                1.0                0.0   2   \n",
       "2         1.0             1.0                1.0                1.0   1   \n",
       "3         1.0             0.0                1.0                0.0   1   \n",
       "4         1.0             1.0                1.0                0.0   1   \n",
       "\n",
       "   Sum_of_boxes  \n",
       "0           8.0  \n",
       "1           6.0  \n",
       "2           1.5  \n",
       "3           2.5  \n",
       "4           2.5  "
      ]
     },
     "execution_count": 136,
     "metadata": {},
     "output_type": "execute_result"
    }
   ],
   "source": [
    "data_table['CDR'] = data_table['CDR'].apply(lambda x : CDR_class(x))\n",
    "data_table.head(5)"
   ]
  },
  {
   "cell_type": "code",
   "execution_count": 137,
   "metadata": {},
   "outputs": [
    {
     "data": {
      "text/plain": [
       "<matplotlib.axes._subplots.AxesSubplot at 0x1b149b8aa88>"
      ]
     },
     "execution_count": 137,
     "metadata": {},
     "output_type": "execute_result"
    },
    {
     "data": {
      "image/png": "[encoded data removed]",
      "text/plain": [
       "<Figure size 432x288 with 1 Axes>"
      ]
     },
     "metadata": {
      "needs_background": "light"
     },
     "output_type": "display_data"
    }
   ],
   "source": [
    "sns.countplot(data_table['CDR'])"
   ]
  },
  {
   "cell_type": "code",
   "execution_count": 138,
   "metadata": {},
   "outputs": [
    {
     "name": "stdout",
     "output_type": "stream",
     "text": [
      "CDR 값 분포 :\n",
      " 1    1647\n",
      "2     537\n",
      "0      28\n",
      "Name: CDR, dtype: int64\n"
     ]
    }
   ],
   "source": [
    "print('CDR 값 분포 :\\n', data_table['CDR'].value_counts())"
   ]
  },
  {
   "cell_type": "code",
   "execution_count": 139,
   "metadata": {},
   "outputs": [
    {
     "data": {
      "text/plain": [
       "Age                                0\n",
       "sex                                0\n",
       "edu_years                          0\n",
       "Rey_CFT_copy_score                 0\n",
       "Alternating_square_and_triangle    0\n",
       "Luria_loop                         0\n",
       "K_MMSE_drawing                     0\n",
       "K_TMT_E_A_success                  0\n",
       "K_TMT_E_B_success                  0\n",
       "dtype: int64"
      ]
     },
     "execution_count": 139,
     "metadata": {},
     "output_type": "execute_result"
    }
   ],
   "source": [
    "from sklearn.model_selection import train_test_split\n",
    "\n",
    "label = data_table['CDR']\n",
    "data = data_table.drop('CDR', axis=1)\n",
    "data= data.drop('Sum_of_boxes', axis=1)\n",
    "data_train, data_test, label_train, label_test = train_test_split(data, label, test_size=0.2, random_state=8)\n",
    "data.isnull().sum()"
   ]
  },
  {
   "cell_type": "code",
   "execution_count": 140,
   "metadata": {},
   "outputs": [],
   "source": [
    "from sklearn.ensemble import VotingClassifier\n",
    "from sklearn.linear_model import LogisticRegression\n",
    "from sklearn.neighbors import KNeighborsClassifier\n",
    "from sklearn.metrics import accuracy_score"
   ]
  },
  {
   "cell_type": "code",
   "execution_count": 141,
   "metadata": {},
   "outputs": [],
   "source": [
    "lr = LogisticRegression()\n",
    "knn = KNeighborsClassifier(n_neighbors=8)\n",
    "\n",
    "voting = VotingClassifier(estimators=[('LR', lr), ('KNN', knn)], voting='soft')"
   ]
  },
  {
   "cell_type": "code",
   "execution_count": 142,
   "metadata": {},
   "outputs": [
    {
     "name": "stdout",
     "output_type": "stream",
     "text": [
      "Voting Classifier Accuracy: 0.7946\n"
     ]
    }
   ],
   "source": [
    "voting.fit(data_train, label_train)\n",
    "pred = voting.predict(data_test)\n",
    "print('Voting Classifier Accuracy: {0:.4f}'.format(accuracy_score(label_test, pred)))"
   ]
  },
  {
   "cell_type": "code",
   "execution_count": 143,
   "metadata": {},
   "outputs": [
    {
     "name": "stdout",
     "output_type": "stream",
     "text": [
      "LogisticRegression 정확도: 0.7946\n",
      "KNeighborsClassifier 정확도: 0.7901\n"
     ]
    }
   ],
   "source": [
    "classifiers = [lr, knn]\n",
    "for clf in classifiers :\n",
    "    clf.fit(data_train, label_train)\n",
    "    pred = clf.predict(data_test)\n",
    "    clf_name = clf.__class__.__name__\n",
    "    print('{0} 정확도: {1:.4f}'.format(clf_name, accuracy_score(label_test, pred)))"
   ]
  },
  {
   "cell_type": "code",
   "execution_count": 145,
   "metadata": {},
   "outputs": [
    {
     "name": "stdout",
     "output_type": "stream",
     "text": [
      "Random Forest Accuracy: 0.7833\n"
     ]
    }
   ],
   "source": [
    "from sklearn.ensemble import RandomForestClassifier\n",
    "\n",
    "rf = RandomForestClassifier(random_state=0)\n",
    "rf.fit(data_train, label_train)\n",
    "pred = rf.predict(data_test)\n",
    "\n",
    "print('Random Forest Accuracy: {0:.4f}'.format(accuracy_score(label_test, pred)))"
   ]
  },
  {
   "cell_type": "code",
   "execution_count": 147,
   "metadata": {},
   "outputs": [
    {
     "name": "stdout",
     "output_type": "stream",
     "text": [
      "Best Hyper Parameter:\n",
      " {'max_depth': 8, 'min_samples_leaf': 8, 'min_samples_split': 8, 'n_estimators': 100}\n",
      "Best Accuracy: 0.7988\n"
     ]
    }
   ],
   "source": [
    "from sklearn.model_selection import GridSearchCV\n",
    "\n",
    "params = { \n",
    "    'n_estimators':[100],\n",
    "    'max_depth':[6, 8, 10, 12],\n",
    "    'min_samples_leaf':[8, 12, 18],\n",
    "    'min_samples_split':[8, 16, 20]\n",
    "             }\n",
    "\n",
    "rf = RandomForestClassifier(random_state=0, n_jobs=-1)\n",
    "grid_cv = GridSearchCV(rf, param_grid=params, cv=2, n_jobs=-1)\n",
    "grid_cv.fit(data_train, label_train)\n",
    "\n",
    "print('Best Hyper Parameter:\\n', grid_cv.best_params_)\n",
    "print('Best Accuracy: {0:.4f}'.format(grid_cv.best_score_))"
   ]
  },
  {
   "cell_type": "code",
   "execution_count": 151,
   "metadata": {},
   "outputs": [
    {
     "ename": "LightGBMError",
     "evalue": "Multiclass objective and metrics don't match",
     "output_type": "error",
     "traceback": [
      "\u001b[1;31m---------------------------------------------------------------------------\u001b[0m",
      "\u001b[1;31mLightGBMError\u001b[0m                             Traceback (most recent call last)",
      "\u001b[1;32m<ipython-input-151-eb90fcd0e99f>\u001b[0m in \u001b[0;36m<module>\u001b[1;34m\u001b[0m\n\u001b[0;32m      5\u001b[0m \u001b[1;33m\u001b[0m\u001b[0m\n\u001b[0;32m      6\u001b[0m \u001b[1;31m#조기 중단 수행\u001b[0m\u001b[1;33m\u001b[0m\u001b[1;33m\u001b[0m\u001b[1;33m\u001b[0m\u001b[0m\n\u001b[1;32m----> 7\u001b[1;33m \u001b[0mlgbm\u001b[0m\u001b[1;33m.\u001b[0m\u001b[0mfit\u001b[0m\u001b[1;33m(\u001b[0m\u001b[0mdata_train\u001b[0m\u001b[1;33m,\u001b[0m \u001b[0mlabel_train\u001b[0m\u001b[1;33m,\u001b[0m \u001b[0mearly_stopping_rounds\u001b[0m\u001b[1;33m=\u001b[0m\u001b[1;36m100\u001b[0m\u001b[1;33m,\u001b[0m \u001b[0meval_metric\u001b[0m\u001b[1;33m=\u001b[0m\u001b[1;34m'auc'\u001b[0m\u001b[1;33m,\u001b[0m \u001b[0meval_set\u001b[0m\u001b[1;33m=\u001b[0m\u001b[1;33m[\u001b[0m\u001b[1;33m(\u001b[0m\u001b[0mdata_test\u001b[0m\u001b[1;33m,\u001b[0m \u001b[0mlabel_test\u001b[0m\u001b[1;33m)\u001b[0m\u001b[1;33m]\u001b[0m\u001b[1;33m,\u001b[0m \u001b[0mverbose\u001b[0m\u001b[1;33m=\u001b[0m\u001b[1;32mTrue\u001b[0m\u001b[1;33m)\u001b[0m\u001b[1;33m\u001b[0m\u001b[1;33m\u001b[0m\u001b[0m\n\u001b[0m",
      "\u001b[1;32m~\\Anaconda3\\lib\\site-packages\\lightgbm\\sklearn.py\u001b[0m in \u001b[0;36mfit\u001b[1;34m(self, X, y, sample_weight, init_score, eval_set, eval_names, eval_sample_weight, eval_class_weight, eval_init_score, eval_metric, early_stopping_rounds, verbose, feature_name, categorical_feature, callbacks, init_model)\u001b[0m\n\u001b[0;32m    836\u001b[0m                                         \u001b[0mverbose\u001b[0m\u001b[1;33m=\u001b[0m\u001b[0mverbose\u001b[0m\u001b[1;33m,\u001b[0m \u001b[0mfeature_name\u001b[0m\u001b[1;33m=\u001b[0m\u001b[0mfeature_name\u001b[0m\u001b[1;33m,\u001b[0m\u001b[1;33m\u001b[0m\u001b[1;33m\u001b[0m\u001b[0m\n\u001b[0;32m    837\u001b[0m                                         \u001b[0mcategorical_feature\u001b[0m\u001b[1;33m=\u001b[0m\u001b[0mcategorical_feature\u001b[0m\u001b[1;33m,\u001b[0m\u001b[1;33m\u001b[0m\u001b[1;33m\u001b[0m\u001b[0m\n\u001b[1;32m--> 838\u001b[1;33m                                         callbacks=callbacks, init_model=init_model)\n\u001b[0m\u001b[0;32m    839\u001b[0m         \u001b[1;32mreturn\u001b[0m \u001b[0mself\u001b[0m\u001b[1;33m\u001b[0m\u001b[1;33m\u001b[0m\u001b[0m\n\u001b[0;32m    840\u001b[0m \u001b[1;33m\u001b[0m\u001b[0m\n",
      "\u001b[1;32m~\\Anaconda3\\lib\\site-packages\\lightgbm\\sklearn.py\u001b[0m in \u001b[0;36mfit\u001b[1;34m(self, X, y, sample_weight, init_score, group, eval_set, eval_names, eval_sample_weight, eval_class_weight, eval_init_score, eval_group, eval_metric, early_stopping_rounds, verbose, feature_name, categorical_feature, callbacks, init_model)\u001b[0m\n\u001b[0;32m    598\u001b[0m                               \u001b[0mevals_result\u001b[0m\u001b[1;33m=\u001b[0m\u001b[0mevals_result\u001b[0m\u001b[1;33m,\u001b[0m \u001b[0mfobj\u001b[0m\u001b[1;33m=\u001b[0m\u001b[0mself\u001b[0m\u001b[1;33m.\u001b[0m\u001b[0m_fobj\u001b[0m\u001b[1;33m,\u001b[0m \u001b[0mfeval\u001b[0m\u001b[1;33m=\u001b[0m\u001b[0mfeval\u001b[0m\u001b[1;33m,\u001b[0m\u001b[1;33m\u001b[0m\u001b[1;33m\u001b[0m\u001b[0m\n\u001b[0;32m    599\u001b[0m                               \u001b[0mverbose_eval\u001b[0m\u001b[1;33m=\u001b[0m\u001b[0mverbose\u001b[0m\u001b[1;33m,\u001b[0m \u001b[0mfeature_name\u001b[0m\u001b[1;33m=\u001b[0m\u001b[0mfeature_name\u001b[0m\u001b[1;33m,\u001b[0m\u001b[1;33m\u001b[0m\u001b[1;33m\u001b[0m\u001b[0m\n\u001b[1;32m--> 600\u001b[1;33m                               callbacks=callbacks, init_model=init_model)\n\u001b[0m\u001b[0;32m    601\u001b[0m \u001b[1;33m\u001b[0m\u001b[0m\n\u001b[0;32m    602\u001b[0m         \u001b[1;32mif\u001b[0m \u001b[0mevals_result\u001b[0m\u001b[1;33m:\u001b[0m\u001b[1;33m\u001b[0m\u001b[1;33m\u001b[0m\u001b[0m\n",
      "\u001b[1;32m~\\Anaconda3\\lib\\site-packages\\lightgbm\\engine.py\u001b[0m in \u001b[0;36mtrain\u001b[1;34m(params, train_set, num_boost_round, valid_sets, valid_names, fobj, feval, init_model, feature_name, categorical_feature, early_stopping_rounds, evals_result, verbose_eval, learning_rates, keep_training_booster, callbacks)\u001b[0m\n\u001b[0;32m    229\u001b[0m     \u001b[1;31m# construct booster\u001b[0m\u001b[1;33m\u001b[0m\u001b[1;33m\u001b[0m\u001b[1;33m\u001b[0m\u001b[0m\n\u001b[0;32m    230\u001b[0m     \u001b[1;32mtry\u001b[0m\u001b[1;33m:\u001b[0m\u001b[1;33m\u001b[0m\u001b[1;33m\u001b[0m\u001b[0m\n\u001b[1;32m--> 231\u001b[1;33m         \u001b[0mbooster\u001b[0m \u001b[1;33m=\u001b[0m \u001b[0mBooster\u001b[0m\u001b[1;33m(\u001b[0m\u001b[0mparams\u001b[0m\u001b[1;33m=\u001b[0m\u001b[0mparams\u001b[0m\u001b[1;33m,\u001b[0m \u001b[0mtrain_set\u001b[0m\u001b[1;33m=\u001b[0m\u001b[0mtrain_set\u001b[0m\u001b[1;33m)\u001b[0m\u001b[1;33m\u001b[0m\u001b[1;33m\u001b[0m\u001b[0m\n\u001b[0m\u001b[0;32m    232\u001b[0m         \u001b[1;32mif\u001b[0m \u001b[0mis_valid_contain_train\u001b[0m\u001b[1;33m:\u001b[0m\u001b[1;33m\u001b[0m\u001b[1;33m\u001b[0m\u001b[0m\n\u001b[0;32m    233\u001b[0m             \u001b[0mbooster\u001b[0m\u001b[1;33m.\u001b[0m\u001b[0mset_train_data_name\u001b[0m\u001b[1;33m(\u001b[0m\u001b[0mtrain_data_name\u001b[0m\u001b[1;33m)\u001b[0m\u001b[1;33m\u001b[0m\u001b[1;33m\u001b[0m\u001b[0m\n",
      "\u001b[1;32m~\\Anaconda3\\lib\\site-packages\\lightgbm\\basic.py\u001b[0m in \u001b[0;36m__init__\u001b[1;34m(self, params, train_set, model_file, model_str, silent)\u001b[0m\n\u001b[0;32m   1981\u001b[0m                     \u001b[1;32mbreak\u001b[0m\u001b[1;33m\u001b[0m\u001b[1;33m\u001b[0m\u001b[0m\n\u001b[0;32m   1982\u001b[0m             \u001b[1;31m# construct booster object\u001b[0m\u001b[1;33m\u001b[0m\u001b[1;33m\u001b[0m\u001b[1;33m\u001b[0m\u001b[0m\n\u001b[1;32m-> 1983\u001b[1;33m             \u001b[0mtrain_set\u001b[0m\u001b[1;33m.\u001b[0m\u001b[0mconstruct\u001b[0m\u001b[1;33m(\u001b[0m\u001b[1;33m)\u001b[0m\u001b[1;33m\u001b[0m\u001b[1;33m\u001b[0m\u001b[0m\n\u001b[0m\u001b[0;32m   1984\u001b[0m             \u001b[1;31m# copy the parameters from train_set\u001b[0m\u001b[1;33m\u001b[0m\u001b[1;33m\u001b[0m\u001b[1;33m\u001b[0m\u001b[0m\n\u001b[0;32m   1985\u001b[0m             \u001b[0mparams\u001b[0m\u001b[1;33m.\u001b[0m\u001b[0mupdate\u001b[0m\u001b[1;33m(\u001b[0m\u001b[0mtrain_set\u001b[0m\u001b[1;33m.\u001b[0m\u001b[0mget_params\u001b[0m\u001b[1;33m(\u001b[0m\u001b[1;33m)\u001b[0m\u001b[1;33m)\u001b[0m\u001b[1;33m\u001b[0m\u001b[1;33m\u001b[0m\u001b[0m\n",
      "\u001b[1;32m~\\Anaconda3\\lib\\site-packages\\lightgbm\\basic.py\u001b[0m in \u001b[0;36mconstruct\u001b[1;34m(self)\u001b[0m\n\u001b[0;32m   1323\u001b[0m                                 \u001b[0minit_score\u001b[0m\u001b[1;33m=\u001b[0m\u001b[0mself\u001b[0m\u001b[1;33m.\u001b[0m\u001b[0minit_score\u001b[0m\u001b[1;33m,\u001b[0m \u001b[0mpredictor\u001b[0m\u001b[1;33m=\u001b[0m\u001b[0mself\u001b[0m\u001b[1;33m.\u001b[0m\u001b[0m_predictor\u001b[0m\u001b[1;33m,\u001b[0m\u001b[1;33m\u001b[0m\u001b[1;33m\u001b[0m\u001b[0m\n\u001b[0;32m   1324\u001b[0m                                 \u001b[0msilent\u001b[0m\u001b[1;33m=\u001b[0m\u001b[0mself\u001b[0m\u001b[1;33m.\u001b[0m\u001b[0msilent\u001b[0m\u001b[1;33m,\u001b[0m \u001b[0mfeature_name\u001b[0m\u001b[1;33m=\u001b[0m\u001b[0mself\u001b[0m\u001b[1;33m.\u001b[0m\u001b[0mfeature_name\u001b[0m\u001b[1;33m,\u001b[0m\u001b[1;33m\u001b[0m\u001b[1;33m\u001b[0m\u001b[0m\n\u001b[1;32m-> 1325\u001b[1;33m                                 categorical_feature=self.categorical_feature, params=self.params)\n\u001b[0m\u001b[0;32m   1326\u001b[0m             \u001b[1;32mif\u001b[0m \u001b[0mself\u001b[0m\u001b[1;33m.\u001b[0m\u001b[0mfree_raw_data\u001b[0m\u001b[1;33m:\u001b[0m\u001b[1;33m\u001b[0m\u001b[1;33m\u001b[0m\u001b[0m\n\u001b[0;32m   1327\u001b[0m                 \u001b[0mself\u001b[0m\u001b[1;33m.\u001b[0m\u001b[0mdata\u001b[0m \u001b[1;33m=\u001b[0m \u001b[1;32mNone\u001b[0m\u001b[1;33m\u001b[0m\u001b[1;33m\u001b[0m\u001b[0m\n",
      "\u001b[1;32m~\\Anaconda3\\lib\\site-packages\\lightgbm\\basic.py\u001b[0m in \u001b[0;36m_lazy_init\u001b[1;34m(self, data, label, reference, weight, group, init_score, predictor, silent, feature_name, categorical_feature, params)\u001b[0m\n\u001b[0;32m   1121\u001b[0m             \u001b[0mself\u001b[0m\u001b[1;33m.\u001b[0m\u001b[0m__init_from_csc\u001b[0m\u001b[1;33m(\u001b[0m\u001b[0mdata\u001b[0m\u001b[1;33m,\u001b[0m \u001b[0mparams_str\u001b[0m\u001b[1;33m,\u001b[0m \u001b[0mref_dataset\u001b[0m\u001b[1;33m)\u001b[0m\u001b[1;33m\u001b[0m\u001b[1;33m\u001b[0m\u001b[0m\n\u001b[0;32m   1122\u001b[0m         \u001b[1;32melif\u001b[0m \u001b[0misinstance\u001b[0m\u001b[1;33m(\u001b[0m\u001b[0mdata\u001b[0m\u001b[1;33m,\u001b[0m \u001b[0mnp\u001b[0m\u001b[1;33m.\u001b[0m\u001b[0mndarray\u001b[0m\u001b[1;33m)\u001b[0m\u001b[1;33m:\u001b[0m\u001b[1;33m\u001b[0m\u001b[1;33m\u001b[0m\u001b[0m\n\u001b[1;32m-> 1123\u001b[1;33m             \u001b[0mself\u001b[0m\u001b[1;33m.\u001b[0m\u001b[0m__init_from_np2d\u001b[0m\u001b[1;33m(\u001b[0m\u001b[0mdata\u001b[0m\u001b[1;33m,\u001b[0m \u001b[0mparams_str\u001b[0m\u001b[1;33m,\u001b[0m \u001b[0mref_dataset\u001b[0m\u001b[1;33m)\u001b[0m\u001b[1;33m\u001b[0m\u001b[1;33m\u001b[0m\u001b[0m\n\u001b[0m\u001b[0;32m   1124\u001b[0m         \u001b[1;32melif\u001b[0m \u001b[0misinstance\u001b[0m\u001b[1;33m(\u001b[0m\u001b[0mdata\u001b[0m\u001b[1;33m,\u001b[0m \u001b[0mlist\u001b[0m\u001b[1;33m)\u001b[0m \u001b[1;32mand\u001b[0m \u001b[0mlen\u001b[0m\u001b[1;33m(\u001b[0m\u001b[0mdata\u001b[0m\u001b[1;33m)\u001b[0m \u001b[1;33m>\u001b[0m \u001b[1;36m0\u001b[0m \u001b[1;32mand\u001b[0m \u001b[0mall\u001b[0m\u001b[1;33m(\u001b[0m\u001b[0misinstance\u001b[0m\u001b[1;33m(\u001b[0m\u001b[0mx\u001b[0m\u001b[1;33m,\u001b[0m \u001b[0mnp\u001b[0m\u001b[1;33m.\u001b[0m\u001b[0mndarray\u001b[0m\u001b[1;33m)\u001b[0m \u001b[1;32mfor\u001b[0m \u001b[0mx\u001b[0m \u001b[1;32min\u001b[0m \u001b[0mdata\u001b[0m\u001b[1;33m)\u001b[0m\u001b[1;33m:\u001b[0m\u001b[1;33m\u001b[0m\u001b[1;33m\u001b[0m\u001b[0m\n\u001b[0;32m   1125\u001b[0m             \u001b[0mself\u001b[0m\u001b[1;33m.\u001b[0m\u001b[0m__init_from_list_np2d\u001b[0m\u001b[1;33m(\u001b[0m\u001b[0mdata\u001b[0m\u001b[1;33m,\u001b[0m \u001b[0mparams_str\u001b[0m\u001b[1;33m,\u001b[0m \u001b[0mref_dataset\u001b[0m\u001b[1;33m)\u001b[0m\u001b[1;33m\u001b[0m\u001b[1;33m\u001b[0m\u001b[0m\n",
      "\u001b[1;32m~\\Anaconda3\\lib\\site-packages\\lightgbm\\basic.py\u001b[0m in \u001b[0;36m__init_from_np2d\u001b[1;34m(self, mat, params_str, ref_dataset)\u001b[0m\n\u001b[0;32m   1171\u001b[0m             \u001b[0mc_str\u001b[0m\u001b[1;33m(\u001b[0m\u001b[0mparams_str\u001b[0m\u001b[1;33m)\u001b[0m\u001b[1;33m,\u001b[0m\u001b[1;33m\u001b[0m\u001b[1;33m\u001b[0m\u001b[0m\n\u001b[0;32m   1172\u001b[0m             \u001b[0mref_dataset\u001b[0m\u001b[1;33m,\u001b[0m\u001b[1;33m\u001b[0m\u001b[1;33m\u001b[0m\u001b[0m\n\u001b[1;32m-> 1173\u001b[1;33m             ctypes.byref(self.handle)))\n\u001b[0m\u001b[0;32m   1174\u001b[0m         \u001b[1;32mreturn\u001b[0m \u001b[0mself\u001b[0m\u001b[1;33m\u001b[0m\u001b[1;33m\u001b[0m\u001b[0m\n\u001b[0;32m   1175\u001b[0m \u001b[1;33m\u001b[0m\u001b[0m\n",
      "\u001b[1;32m~\\Anaconda3\\lib\\site-packages\\lightgbm\\basic.py\u001b[0m in \u001b[0;36m_safe_call\u001b[1;34m(ret)\u001b[0m\n\u001b[0;32m     53\u001b[0m     \"\"\"\n\u001b[0;32m     54\u001b[0m     \u001b[1;32mif\u001b[0m \u001b[0mret\u001b[0m \u001b[1;33m!=\u001b[0m \u001b[1;36m0\u001b[0m\u001b[1;33m:\u001b[0m\u001b[1;33m\u001b[0m\u001b[1;33m\u001b[0m\u001b[0m\n\u001b[1;32m---> 55\u001b[1;33m         \u001b[1;32mraise\u001b[0m \u001b[0mLightGBMError\u001b[0m\u001b[1;33m(\u001b[0m\u001b[0mdecode_string\u001b[0m\u001b[1;33m(\u001b[0m\u001b[0m_LIB\u001b[0m\u001b[1;33m.\u001b[0m\u001b[0mLGBM_GetLastError\u001b[0m\u001b[1;33m(\u001b[0m\u001b[1;33m)\u001b[0m\u001b[1;33m)\u001b[0m\u001b[1;33m)\u001b[0m\u001b[1;33m\u001b[0m\u001b[1;33m\u001b[0m\u001b[0m\n\u001b[0m\u001b[0;32m     56\u001b[0m \u001b[1;33m\u001b[0m\u001b[0m\n\u001b[0;32m     57\u001b[0m \u001b[1;33m\u001b[0m\u001b[0m\n",
      "\u001b[1;31mLightGBMError\u001b[0m: Multiclass objective and metrics don't match"
     ]
    }
   ],
   "source": [
    "from lightgbm import LGBMClassifier\n",
    "from sklearn.metrics import roc_auc_score\n",
    "\n",
    "lgbm = LGBMClassifier(n_estimators=400)\n",
    "\n",
    "#조기 중단 수행\n",
    "lgbm.fit(data_train, label_train, early_stopping_rounds=100, eval_metric='auc', eval_set=[(data_test, label_test)], verbose=True)"
   ]
  },
  {
   "cell_type": "markdown",
   "metadata": {},
   "source": [
    "## Age Normalization"
   ]
  },
  {
   "cell_type": "code",
   "execution_count": null,
   "metadata": {},
   "outputs": [],
   "source": []
  },
  {
   "cell_type": "markdown",
   "metadata": {},
   "source": [
    "추후 작업 예정, 추가로 Rey_CFT_copy_score을 작업하면 좋을 듯함"
   ]
  },
  {
   "cell_type": "markdown",
   "metadata": {},
   "source": [
    "## CDR Engineering"
   ]
  },
  {
   "cell_type": "markdown",
   "metadata": {},
   "source": [
    "0, 0.45, 0.5 는 0으로, 1, 2, 3, 3.5 는 1로 교체"
   ]
  },
  {
   "cell_type": "code",
   "execution_count": 34,
   "metadata": {},
   "outputs": [
    {
     "data": {
      "text/plain": [
       "<matplotlib.axes._subplots.AxesSubplot at 0x13aa2d6a5c8>"
      ]
     },
     "execution_count": 34,
     "metadata": {},
     "output_type": "execute_result"
    },
    {
     "data": {
      "image/png": "[encoded data removed]",
      "text/plain": [
       "<Figure size 432x288 with 1 Axes>"
      ]
     },
     "metadata": {
      "needs_background": "light"
     },
     "output_type": "display_data"
    }
   ],
   "source": [
    "data_table['CDR'] = data_table['CDR'].replace([0, 0.45, 0.5], 0)\n",
    "data_table['CDR'] = data_table['CDR'].replace([2,3,3.5], 1)\n",
    "sns.countplot(x=\"CDR\", data=data_table)"
   ]
  },
  {
   "cell_type": "code",
   "execution_count": 35,
   "metadata": {},
   "outputs": [
    {
     "name": "stdout",
     "output_type": "stream",
     "text": [
      "0.0    75.980392\n",
      "1.0    24.019608\n",
      "Name: CDR, dtype: float64\n",
      "0.0    73.039216\n",
      "1.0    26.960784\n",
      "Name: CDR, dtype: float64\n"
     ]
    }
   ],
   "source": [
    "from sklearn.model_selection import train_test_split\n",
    "X = data_table.iloc[:,:-1]\n",
    "y = data_table.iloc[:,-1]\n",
    "\n",
    "X_train, X_test, y_train, y_test = train_test_split(X, y, test_size=0.3,random_state=10)\n",
    "\n",
    "print(y_train.value_counts()/y_train.shape[0]*100)\n",
    "print(y_test.value_counts()/y_test.shape[0]*100)"
   ]
  },
  {
   "cell_type": "markdown",
   "metadata": {},
   "source": [
    "## Decision Tree"
   ]
  },
  {
   "cell_type": "code",
   "execution_count": 36,
   "metadata": {},
   "outputs": [
    {
     "name": "stdout",
     "output_type": "stream",
     "text": [
      "DecisionTreeClassifier 정확도 : 0.6912\n"
     ]
    }
   ],
   "source": [
    "from sklearn.tree import DecisionTreeClassifier\n",
    "from sklearn.metrics import accuracy_score\n",
    "\n",
    "# DecisionTree 클래스 생성\n",
    "dt_clf = DecisionTreeClassifier(random_state=11)\n",
    "\n",
    "# DecisionTreeClassifier 학습/예측/평가\n",
    "dt_clf.fit(X_train, y_train)\n",
    "dt_pred = dt_clf.predict(X_test)\n",
    "print('DecisionTreeClassifier 정확도 : {0:.4f}'.format(accuracy_score(y_test, dt_pred)))"
   ]
  },
  {
   "cell_type": "code",
   "execution_count": 37,
   "metadata": {},
   "outputs": [
    {
     "name": "stdout",
     "output_type": "stream",
     "text": [
      "GridSearch 최적 하이퍼 파라미터:  {'max_depth': 4, 'min_samples_leaf': 9, 'min_samples_split': 2}\n",
      "GridSearch 최고 정확도:0.8158 \n",
      "튜닝 후 예측 정확도: 0.7745\n"
     ]
    }
   ],
   "source": [
    "from sklearn.model_selection import GridSearchCV\n",
    "\n",
    "parameters = {'max_depth': [2, 4, 6, 8, 10, 12],\n",
    "                        'min_samples_split' : [2, 3, 4, 5],\n",
    "                         'min_samples_leaf' : [1, 3, 5, 7, 9]}\n",
    "\n",
    "grid_dclf = GridSearchCV(dt_clf, param_grid=parameters, scoring='accuracy', cv=5)\n",
    "grid_dclf.fit(X_train, y_train)\n",
    "\n",
    "print(\"GridSearch 최적 하이퍼 파라미터: \", grid_dclf.best_params_)\n",
    "print(\"GridSearch 최고 정확도:{:.4f} \".format(grid_dclf.best_score_))\n",
    "best_dclf = grid_dclf.best_estimator_\n",
    "\n",
    "# GridSearch의 최적 하이퍼파라미터로 학습된 Estimator로 예측 및 평가 수행\n",
    "predictions = best_dclf.predict(X_test)\n",
    "accuracy = accuracy_score(y_test, predictions)\n",
    "print('튜닝 후 예측 정확도: {0:.4f}'.format(accuracy))"
   ]
  },
  {
   "cell_type": "code",
   "execution_count": 38,
   "metadata": {},
   "outputs": [
    {
     "data": {
      "image/png": "[encoded data removed]",
      "text/plain": [
       "<Figure size 576x432 with 1 Axes>"
      ]
     },
     "metadata": {
      "needs_background": "light"
     },
     "output_type": "display_data"
    }
   ],
   "source": [
    "import seaborn as sns\n",
    "import matplotlib.pyplot as plt\n",
    "\n",
    "feature_importance_values = best_dclf.feature_importances_\n",
    "# Top 중요도로 정렬하고, 쉽게 시각화하기 위해 Series 변환\n",
    "feature_importances = pd.Series(feature_importance_values, index=X_train.columns)\n",
    "# 중요도값 순으로 Series를 정렬\n",
    "feature_top20 = feature_importances.sort_values(ascending=False)[:]\n",
    "\n",
    "plt.figure(figsize=[8, 6])\n",
    "plt.title('Decision Tree Feature Importances')\n",
    "sns.barplot(x=feature_top20, y=feature_top20.index)\n",
    "plt.show()"
   ]
  },
  {
   "cell_type": "markdown",
   "metadata": {},
   "source": [
    "## Random Forest"
   ]
  },
  {
   "cell_type": "code",
   "execution_count": 39,
   "metadata": {},
   "outputs": [
    {
     "name": "stdout",
     "output_type": "stream",
     "text": [
      "랜덤 포레스트 정확도: 0.7696\n"
     ]
    }
   ],
   "source": [
    "from sklearn.ensemble import RandomForestClassifier\n",
    "\n",
    "rf_clf = RandomForestClassifier(random_state=11)\n",
    "rf_clf.fit(X_train, y_train)\n",
    "pred = rf_clf.predict(X_test)\n",
    "accuracy = accuracy_score(y_test, pred)\n",
    "print('랜덤 포레스트 정확도: {0:.4f}'.format(accuracy))"
   ]
  },
  {
   "cell_type": "code",
   "execution_count": 40,
   "metadata": {},
   "outputs": [
    {
     "name": "stdout",
     "output_type": "stream",
     "text": [
      "최적 하이퍼 파라미터:\n",
      " {'max_depth': 6, 'min_samples_leaf': 18, 'min_samples_split': 4, 'n_estimators': 200}\n",
      "최고 예측 정확도: 0.8221\n"
     ]
    }
   ],
   "source": [
    "params = {\n",
    "    'n_estimators':[50,100,200],\n",
    "    'max_depth' : [2,4,6,8],\n",
    "    'min_samples_leaf' : [18,24,30],\n",
    "    'min_samples_split' : [4, 8, 16, 20]\n",
    "}\n",
    "# RandomForestClassifier 객체 생성 후 GridSearchCV 수행\n",
    "rf_clf = RandomForestClassifier(random_state=11, n_jobs=-11)\n",
    "grid_cv = GridSearchCV(rf_clf, param_grid=params, cv=5, n_jobs=-1)\n",
    "grid_cv.fit(X_train, y_train)\n",
    "\n",
    "print('최적 하이퍼 파라미터:\\n',grid_cv.best_params_)\n",
    "print('최고 예측 정확도: {0:.4f}'.format(grid_cv.best_score_))"
   ]
  },
  {
   "cell_type": "markdown",
   "metadata": {},
   "source": [
    "## Logistic Regression"
   ]
  },
  {
   "cell_type": "code",
   "execution_count": 44,
   "metadata": {},
   "outputs": [
    {
     "name": "stdout",
     "output_type": "stream",
     "text": [
      "로지스틱 회귀 정확도: 0.7778\n"
     ]
    }
   ],
   "source": [
    "from sklearn.linear_model import LogisticRegression\n",
    "\n",
    "lr_clf = LogisticRegression(random_state=11)\n",
    "lr_clf.fit(X_train, y_train)\n",
    "pred = lr_clf.predict(X_test)\n",
    "accuracy = accuracy_score(y_test, pred)\n",
    "print('로지스틱 회귀 정확도: {0:.4f}'.format(accuracy))"
   ]
  },
  {
   "cell_type": "code",
   "execution_count": 45,
   "metadata": {},
   "outputs": [
    {
     "name": "stdout",
     "output_type": "stream",
     "text": [
      "최적 하이퍼 파라미터:\n",
      " {'C': 1.0, 'penalty': 'l2'}\n",
      "최고 예측 정확도: 0.8214\n"
     ]
    }
   ],
   "source": [
    "# Create regularization penalty space\n",
    "penalty = ['l1', 'l2']\n",
    "\n",
    "# Create regularization hyperparameter space\n",
    "C = np.logspace(0, 4, 10)\n",
    "\n",
    "# Create hyperparameter options\n",
    "hyperparameters = dict(C=C, penalty=penalty)\n",
    "\n",
    "# Create grid search using 5-fold cross validation\n",
    "best_lrclf = GridSearchCV(lr_clf, hyperparameters, cv=5, verbose=0)\n",
    "best_model = best_lrclf.fit(X_train, y_train)\n",
    "best_lrclf.fit(X_train, y_train)\n",
    "\n",
    "print('최적 하이퍼 파라미터:\\n',best_lrclf.best_params_)\n",
    "print('최고 예측 정확도: {0:.4f}'.format(best_lrclf.best_score_))"
   ]
  },
  {
   "cell_type": "code",
   "execution_count": 46,
   "metadata": {},
   "outputs": [
    {
     "name": "stdout",
     "output_type": "stream",
     "text": [
      "튜닝 후 예측 정확도: 0.7778\n",
      "튜닝 전 예측 정확도: 0.7778\n"
     ]
    }
   ],
   "source": [
    "pred = best_model.predict(X_test)\n",
    "print('튜닝 후 예측 정확도: {0:.4f}'.format(accuracy_score(y_test, pred)))\n",
    "\n",
    "pred = lr_clf.predict(X_test)\n",
    "print('튜닝 전 예측 정확도: {0:.4f}'.format(accuracy_score(y_test, pred)))"
   ]
  },
  {
   "cell_type": "code",
   "execution_count": null,
   "metadata": {},
   "outputs": [],
   "source": []
  }
 ],
 "metadata": {
  "kernelspec": {
   "display_name": "Python 3 (ipykernel)",
   "language": "python",
   "name": "python3"
  },
  "language_info": {
   "codemirror_mode": {
    "name": "ipython",
    "version": 3
   },
   "file_extension": ".py",
   "mimetype": "text/x-python",
   "name": "python",
   "nbconvert_exporter": "python",
   "pygments_lexer": "ipython3",
   "version": "3.9.7"
  }
 },
 "nbformat": 4,
 "nbformat_minor": 4
}
